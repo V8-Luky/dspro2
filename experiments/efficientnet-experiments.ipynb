{
 "cells": [
  {
   "cell_type": "markdown",
   "id": "bba83521-4c8a-4766-ba30-86392d49448b",
   "metadata": {},
   "source": [
    "# EfficientNet Model Repurposing - Experiments\n",
    "\n",
    "This notebook contains early experiments for finetuning an EfficientNet to our task. It has not been maintained after the initial experiments, and is not used in the current pipeline."
   ]
  },
  {
   "cell_type": "code",
   "execution_count": 17,
   "id": "7fd07550-565f-4134-af4a-5d507f4f88a2",
   "metadata": {},
   "outputs": [],
   "source": [
    "import torch\n",
    "import torch.nn as nn\n",
    "import torchvision.transforms as transforms\n",
    "import torchvision.datasets as datasets\n",
    "import pytorch_lightning as pl\n",
    "from torch.utils.data import DataLoader\n",
    "from torchvision import models\n",
    "from pytorch_lightning import Trainer\n",
    "from pytorch_lightning.callbacks import ModelCheckpoint\n"
   ]
  },
  {
   "cell_type": "code",
   "execution_count": 28,
   "id": "cec76397-372b-40bb-bb0f-46a2251ccc31",
   "metadata": {},
   "outputs": [],
   "source": [
    "data_dir = r\"/exchange/dspro2/silent-speech/ASL_Dataset\"\n",
    "batch_size = 32 * 2 ** 3\n",
    "img_size = 224\n",
    "num_workers = 64"
   ]
  },
  {
   "cell_type": "code",
   "execution_count": 29,
   "id": "5e1907a2-c25b-437a-912b-b80ca09bbde8",
   "metadata": {},
   "outputs": [],
   "source": [
    "data_transforms = transforms.Compose([\n",
    "    transforms.Resize((img_size, img_size)),\n",
    "    transforms.RandomHorizontalFlip(),\n",
    "    transforms.RandomRotation(10),\n",
    "    transforms.RandomAffine(0, shear=10, scale=(0.8, 1.2)),\n",
    "    transforms.ToTensor(),\n",
    "    transforms.Normalize([0.485, 0.456, 0.406], [0.229, 0.224, 0.225])\n",
    "])"
   ]
  },
  {
   "cell_type": "code",
   "execution_count": 30,
   "id": "88cee29b-9fd0-4988-aca2-c33846ed9d74",
   "metadata": {},
   "outputs": [],
   "source": [
    "train_dataset = datasets.ImageFolder(root=f\"{data_dir}/Train\", transform=data_transforms)\n",
    "val_dataset = datasets.ImageFolder(root=f\"{data_dir}/Test\", transform=data_transforms)"
   ]
  },
  {
   "cell_type": "code",
   "execution_count": 31,
   "id": "4aa697fc-6bd2-4b6f-9176-1994808df4b3",
   "metadata": {},
   "outputs": [],
   "source": [
    "train_loader = DataLoader(train_dataset, batch_size=batch_size, shuffle=True, num_workers=num_workers)\n",
    "val_loader = DataLoader(val_dataset, batch_size=batch_size, shuffle=False, num_workers=num_workers)"
   ]
  },
  {
   "cell_type": "code",
   "execution_count": 32,
   "id": "8d630c0a-7bb7-4c63-990b-6e23337bf30d",
   "metadata": {},
   "outputs": [],
   "source": [
    "class_names = train_dataset.classes\n",
    "num_classes = len(class_names)"
   ]
  },
  {
   "cell_type": "code",
   "execution_count": 33,
   "id": "efd4b004-bd66-48d3-abaf-332def228cc2",
   "metadata": {},
   "outputs": [],
   "source": [
    "class ASLEfficientNet(pl.LightningModule):\n",
    "    def __init__(self, num_classes):\n",
    "        super(ASLEfficientNet, self).__init__()\n",
    "        self.model = models.efficientnet_b0()\n",
    "        self.model.requires_grad_(False)\n",
    "        self.model.classifier = nn.Sequential(\n",
    "            nn.Dropout(0.2),\n",
    "            nn.Linear(self.model.classifier[1].in_features, num_classes),\n",
    "            nn.Softmax(dim=-1)\n",
    "        )\n",
    "        self.criterion = nn.CrossEntropyLoss()\n",
    "\n",
    "    def forward(self, x):\n",
    "        return self.model(x)\n",
    "\n",
    "    def training_step(self, batch, batch_idx):\n",
    "        inputs, labels = batch\n",
    "        outputs = self(inputs)\n",
    "        loss = self.criterion(outputs, labels)\n",
    "        acc = (outputs.argmax(dim=1) == labels).float().mean()\n",
    "        self.log(\"train_loss\", loss, prog_bar=True)\n",
    "        self.log(\"train_acc\", acc, prog_bar=True)\n",
    "        return loss\n",
    "\n",
    "    def validation_step(self, batch, batch_idx):\n",
    "        inputs, labels = batch\n",
    "        outputs = self(inputs)\n",
    "        loss = self.criterion(outputs, labels)\n",
    "        acc = (outputs.argmax(dim=1) == labels).float().mean()\n",
    "        self.log(\"val_loss\", loss, prog_bar=True)\n",
    "        self.log(\"val_acc\", acc, prog_bar=True)\n",
    "\n",
    "    def configure_optimizers(self):\n",
    "        return torch.optim.Adam(filter(lambda p: p.requires_grad, model.parameters()), lr=0.001)"
   ]
  },
  {
   "cell_type": "code",
   "execution_count": 34,
   "id": "d5b98f62-7153-421a-aaa6-b46565e1fdd9",
   "metadata": {},
   "outputs": [],
   "source": [
    "# Initialize model\n",
    "model = ASLEfficientNet(num_classes)\n"
   ]
  },
  {
   "cell_type": "code",
   "execution_count": 35,
   "id": "5fdaa6c0-546b-40fb-92f9-580ddf8bcf7c",
   "metadata": {},
   "outputs": [],
   "source": [
    "# Define callbacks\n",
    "checkpoint_callback = ModelCheckpoint(monitor=\"val_loss\", mode=\"min\", save_top_k=1, filename=\"best_model\")"
   ]
  },
  {
   "cell_type": "code",
   "execution_count": 36,
   "id": "6d9062da-2ff1-4327-bbf8-d0adf8c3c2c7",
   "metadata": {},
   "outputs": [
    {
     "name": "stderr",
     "output_type": "stream",
     "text": [
      "GPU available: True (cuda), used: True\n",
      "TPU available: False, using: 0 TPU cores\n",
      "HPU available: False, using: 0 HPUs\n"
     ]
    }
   ],
   "source": [
    "# Initialize Trainer\n",
    "trainer = Trainer(max_epochs=20, callbacks=[checkpoint_callback])"
   ]
  },
  {
   "cell_type": "code",
   "execution_count": null,
   "id": "ad1442a2-64db-4df5-944a-091b4de1a3a1",
   "metadata": {},
   "outputs": [
    {
     "name": "stderr",
     "output_type": "stream",
     "text": [
      "LOCAL_RANK: 0 - CUDA_VISIBLE_DEVICES: [0]\n",
      "\n",
      "  | Name      | Type             | Params | Mode \n",
      "-------------------------------------------------------\n",
      "0 | model     | EfficientNet     | 4.0 M  | train\n",
      "1 | criterion | CrossEntropyLoss | 0      | train\n",
      "-------------------------------------------------------\n",
      "35.9 K    Trainable params\n",
      "4.0 M     Non-trainable params\n",
      "4.0 M     Total params\n",
      "16.174    Total estimated model params size (MB)\n",
      "339       Modules in train mode\n",
      "0         Modules in eval mode\n"
     ]
    },
    {
     "data": {
      "application/vnd.jupyter.widget-view+json": {
       "model_id": "8782d1344a11471aa512e80ca1407904",
       "version_major": 2,
       "version_minor": 0
      },
      "text/plain": [
       "Sanity Checking: |          | 0/? [00:00<?, ?it/s]"
      ]
     },
     "metadata": {},
     "output_type": "display_data"
    },
    {
     "data": {
      "application/vnd.jupyter.widget-view+json": {
       "model_id": "92916674bed44f3daa4edad6fa3c8fd5",
       "version_major": 2,
       "version_minor": 0
      },
      "text/plain": [
       "Training: |          | 0/? [00:00<?, ?it/s]"
      ]
     },
     "metadata": {},
     "output_type": "display_data"
    }
   ],
   "source": [
    "# Train model\n",
    "trainer.fit(model, train_loader, val_loader)"
   ]
  },
  {
   "cell_type": "code",
   "execution_count": null,
   "id": "93a1d2ab-0cb9-4e80-bdbd-22a6f340393d",
   "metadata": {},
   "outputs": [],
   "source": [
    "\n",
    "# Save the final model\n",
    "torch.save(model.state_dict(), \"asl_efficientnet_model.pth\")"
   ]
  },
  {
   "cell_type": "code",
   "execution_count": null,
   "id": "034f7141-e140-4a38-84f8-9facc2c02c17",
   "metadata": {},
   "outputs": [],
   "source": [
    "¨¨"
   ]
  }
 ],
 "metadata": {
  "kernelspec": {
   "display_name": "Python 3 (ipykernel)",
   "language": "python",
   "name": "python3"
  },
  "language_info": {
   "codemirror_mode": {
    "name": "ipython",
    "version": 3
   },
   "file_extension": ".py",
   "mimetype": "text/x-python",
   "name": "python",
   "nbconvert_exporter": "python",
   "pygments_lexer": "ipython3",
   "version": "3.12.9"
  }
 },
 "nbformat": 4,
 "nbformat_minor": 5
}
