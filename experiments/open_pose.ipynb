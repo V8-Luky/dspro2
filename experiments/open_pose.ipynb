{
 "cells": [
  {
   "cell_type": "markdown",
   "id": "812e8d34-e868-42ab-83b1-b9e9c0664869",
   "metadata": {},
   "source": [
    "# Open Pose - Experiments"
   ]
  },
  {
   "cell_type": "code",
   "execution_count": 2,
   "id": "cccdcb97-7dba-4746-ba42-bde466dbf308",
   "metadata": {},
   "outputs": [],
   "source": [
    "import cv2 as cv\n",
    "import numpy as np"
   ]
  },
  {
   "cell_type": "code",
   "execution_count": 4,
   "id": "2c57b82d-2b6d-4781-88dc-b3b1e034f769",
   "metadata": {},
   "outputs": [
    {
     "name": "stdout",
     "output_type": "stream",
     "text": [
      "\u001b[31mERROR: Could not find a version that satisfies the requirement pyopenpose (from versions: none)\u001b[0m\u001b[31m\n",
      "\u001b[0m\u001b[31mERROR: No matching distribution found for pyopenpose\u001b[0m\u001b[31m\n",
      "Note: you may need to restart the kernel to use updated packages.\n"
     ]
    }
   ],
   "source": [
    "%pip install pyopenpose"
   ]
  },
  {
   "cell_type": "code",
   "execution_count": 3,
   "id": "ba587a28-3d74-482b-8fe9-04b68c43e863",
   "metadata": {},
   "outputs": [
    {
     "ename": "ModuleNotFoundError",
     "evalue": "No module named 'pyopenpose'",
     "output_type": "error",
     "traceback": [
      "\u001b[0;31m---------------------------------------------------------------------------\u001b[0m",
      "\u001b[0;31mModuleNotFoundError\u001b[0m                       Traceback (most recent call last)",
      "Cell \u001b[0;32mIn[3], line 1\u001b[0m\n\u001b[0;32m----> 1\u001b[0m \u001b[38;5;28;01mimport\u001b[39;00m\u001b[38;5;250m \u001b[39m\u001b[38;5;21;01mpyopenpose\u001b[39;00m\n",
      "\u001b[0;31mModuleNotFoundError\u001b[0m: No module named 'pyopenpose'"
     ]
    }
   ],
   "source": [
    "import pyopenpose"
   ]
  },
  {
   "cell_type": "markdown",
   "id": "8846f4eb-7654-448a-8de5-b0acee84cbd3",
   "metadata": {},
   "source": [
    "There is a lot of effort behind installing OpenPose and due to our limited permissions on GPUHub it is essentially impossible to do so. Hence I won't invest anymore time into trying to install OpenPose for Python, since we already have a working solution with MediaPipe.\n",
    "\n",
    "[This](https://github.com/CMU-Perceptual-Computing-Lab/openpose/blob/master/doc/03_python_api.md) doc shows how the Python module can be installed. However we would need root permissions to install cmake and other tools to build openpose from it's source, as there is no Python module available out of the box via pip."
   ]
  },
  {
   "cell_type": "code",
   "execution_count": null,
   "id": "2f40f0f3-6bbc-4b84-827a-50b8c34a8c27",
   "metadata": {},
   "outputs": [],
   "source": []
  }
 ],
 "metadata": {
  "kernelspec": {
   "display_name": "Python 3 (ipykernel)",
   "language": "python",
   "name": "python3"
  },
  "language_info": {
   "codemirror_mode": {
    "name": "ipython",
    "version": 3
   },
   "file_extension": ".py",
   "mimetype": "text/x-python",
   "name": "python",
   "nbconvert_exporter": "python",
   "pygments_lexer": "ipython3",
   "version": "3.12.9"
  }
 },
 "nbformat": 4,
 "nbformat_minor": 5
}
