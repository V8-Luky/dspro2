{
 "cells": [
  {
   "cell_type": "markdown",
   "metadata": {},
   "source": [
    "# Efficient Net - Repurposing/Finetuning\n",
    "## Introduction\n",
    "\n",
    "This notebook is an attempt to repurpose and finetune an EfficientNet model to the task of American Sign Language detection for the DSPRO2 project at HSLU."
   ]
  },
  {
   "cell_type": "markdown",
   "metadata": {},
   "source": [
    "## Setup\n",
    "In this section all the necessary libraries are imported."
   ]
  },
  {
   "cell_type": "code",
   "execution_count": 1,
   "metadata": {},
   "outputs": [
    {
     "name": "stdout",
     "output_type": "stream",
     "text": [
      "Requirement already satisfied: aiohappyeyeballs==2.6.1 in /opt/conda/lib/python3.12/site-packages (from -r requirements.txt (line 1)) (2.6.1)\n",
      "Requirement already satisfied: aiohttp==3.11.16 in /opt/conda/lib/python3.12/site-packages (from -r requirements.txt (line 2)) (3.11.16)\n",
      "Requirement already satisfied: aiosignal==1.3.2 in /opt/conda/lib/python3.12/site-packages (from -r requirements.txt (line 3)) (1.3.2)\n",
      "Requirement already satisfied: annotated-types==0.7.0 in /opt/conda/lib/python3.12/site-packages (from -r requirements.txt (line 4)) (0.7.0)\n",
      "Requirement already satisfied: asttokens==3.0.0 in /opt/conda/lib/python3.12/site-packages (from -r requirements.txt (line 5)) (3.0.0)\n",
      "Requirement already satisfied: attrs==25.3.0 in /opt/conda/lib/python3.12/site-packages (from -r requirements.txt (line 6)) (25.3.0)\n",
      "Requirement already satisfied: certifi==2025.1.31 in /opt/conda/lib/python3.12/site-packages (from -r requirements.txt (line 7)) (2025.1.31)\n",
      "Requirement already satisfied: charset-normalizer==3.4.1 in /opt/conda/lib/python3.12/site-packages (from -r requirements.txt (line 8)) (3.4.1)\n",
      "Requirement already satisfied: click==8.1.8 in /opt/conda/lib/python3.12/site-packages (from -r requirements.txt (line 9)) (8.1.8)\n",
      "Requirement already satisfied: colorama==0.4.6 in /opt/conda/lib/python3.12/site-packages (from -r requirements.txt (line 10)) (0.4.6)\n",
      "Requirement already satisfied: comm==0.2.2 in /opt/conda/lib/python3.12/site-packages (from -r requirements.txt (line 11)) (0.2.2)\n",
      "Requirement already satisfied: debugpy==1.8.13 in /opt/conda/lib/python3.12/site-packages (from -r requirements.txt (line 12)) (1.8.13)\n",
      "Requirement already satisfied: decorator==5.2.1 in /opt/conda/lib/python3.12/site-packages (from -r requirements.txt (line 13)) (5.2.1)\n",
      "Requirement already satisfied: docker-pycreds==0.4.0 in /opt/conda/lib/python3.12/site-packages (from -r requirements.txt (line 14)) (0.4.0)\n",
      "Requirement already satisfied: executing==2.2.0 in /opt/conda/lib/python3.12/site-packages (from -r requirements.txt (line 15)) (2.2.0)\n",
      "Requirement already satisfied: fastjsonschema==2.21.1 in /opt/conda/lib/python3.12/site-packages (from -r requirements.txt (line 16)) (2.21.1)\n",
      "Requirement already satisfied: filelock==3.18.0 in /opt/conda/lib/python3.12/site-packages (from -r requirements.txt (line 17)) (3.18.0)\n",
      "Requirement already satisfied: frozenlist==1.5.0 in /opt/conda/lib/python3.12/site-packages (from -r requirements.txt (line 18)) (1.5.0)\n",
      "Requirement already satisfied: fsspec==2025.3.2 in /opt/conda/lib/python3.12/site-packages (from -r requirements.txt (line 19)) (2025.3.2)\n",
      "Requirement already satisfied: gitdb==4.0.12 in /opt/conda/lib/python3.12/site-packages (from -r requirements.txt (line 20)) (4.0.12)\n",
      "Requirement already satisfied: GitPython==3.1.44 in /opt/conda/lib/python3.12/site-packages (from -r requirements.txt (line 21)) (3.1.44)\n",
      "Requirement already satisfied: idna==3.10 in /opt/conda/lib/python3.12/site-packages (from -r requirements.txt (line 22)) (3.10)\n",
      "Requirement already satisfied: ipykernel==6.29.5 in /opt/conda/lib/python3.12/site-packages (from -r requirements.txt (line 23)) (6.29.5)\n",
      "Requirement already satisfied: ipython==9.1.0 in /opt/conda/lib/python3.12/site-packages (from -r requirements.txt (line 24)) (9.1.0)\n",
      "Requirement already satisfied: ipython_pygments_lexers==1.1.1 in /opt/conda/lib/python3.12/site-packages (from -r requirements.txt (line 25)) (1.1.1)\n",
      "Requirement already satisfied: jedi==0.19.2 in /opt/conda/lib/python3.12/site-packages (from -r requirements.txt (line 26)) (0.19.2)\n",
      "Requirement already satisfied: Jinja2==3.1.6 in /opt/conda/lib/python3.12/site-packages (from -r requirements.txt (line 27)) (3.1.6)\n",
      "Requirement already satisfied: jsonschema==4.23.0 in /opt/conda/lib/python3.12/site-packages (from -r requirements.txt (line 28)) (4.23.0)\n",
      "Requirement already satisfied: jsonschema-specifications==2024.10.1 in /opt/conda/lib/python3.12/site-packages (from -r requirements.txt (line 29)) (2024.10.1)\n",
      "Requirement already satisfied: jupyter_client==8.6.3 in /opt/conda/lib/python3.12/site-packages (from -r requirements.txt (line 30)) (8.6.3)\n",
      "Requirement already satisfied: jupyter_core==5.7.2 in /opt/conda/lib/python3.12/site-packages (from -r requirements.txt (line 31)) (5.7.2)\n",
      "Requirement already satisfied: kagglehub==0.3.11 in /opt/conda/lib/python3.12/site-packages (from -r requirements.txt (line 32)) (0.3.11)\n",
      "Requirement already satisfied: lightning==2.5.1 in /opt/conda/lib/python3.12/site-packages (from -r requirements.txt (line 33)) (2.5.1)\n",
      "Requirement already satisfied: lightning-utilities==0.14.3 in /opt/conda/lib/python3.12/site-packages (from -r requirements.txt (line 34)) (0.14.3)\n",
      "Requirement already satisfied: MarkupSafe==3.0.2 in /opt/conda/lib/python3.12/site-packages (from -r requirements.txt (line 35)) (3.0.2)\n",
      "Requirement already satisfied: matplotlib-inline==0.1.7 in /opt/conda/lib/python3.12/site-packages (from -r requirements.txt (line 36)) (0.1.7)\n",
      "Requirement already satisfied: mpmath==1.3.0 in /opt/conda/lib/python3.12/site-packages (from -r requirements.txt (line 37)) (1.3.0)\n",
      "Requirement already satisfied: multidict==6.3.2 in /opt/conda/lib/python3.12/site-packages (from -r requirements.txt (line 38)) (6.3.2)\n",
      "Requirement already satisfied: nbformat==5.10.4 in /opt/conda/lib/python3.12/site-packages (from -r requirements.txt (line 39)) (5.10.4)\n",
      "Requirement already satisfied: nest-asyncio==1.6.0 in /opt/conda/lib/python3.12/site-packages (from -r requirements.txt (line 40)) (1.6.0)\n",
      "Requirement already satisfied: networkx==3.4.2 in /opt/conda/lib/python3.12/site-packages (from -r requirements.txt (line 41)) (3.4.2)\n",
      "Requirement already satisfied: numpy==2.2.4 in /opt/conda/lib/python3.12/site-packages (from -r requirements.txt (line 42)) (2.2.4)\n",
      "Requirement already satisfied: packaging==24.2 in /opt/conda/lib/python3.12/site-packages (from -r requirements.txt (line 43)) (24.2)\n",
      "Requirement already satisfied: parso==0.8.4 in /opt/conda/lib/python3.12/site-packages (from -r requirements.txt (line 44)) (0.8.4)\n",
      "Requirement already satisfied: pillow==11.1.0 in /opt/conda/lib/python3.12/site-packages (from -r requirements.txt (line 45)) (11.1.0)\n",
      "Requirement already satisfied: platformdirs==4.3.7 in /opt/conda/lib/python3.12/site-packages (from -r requirements.txt (line 46)) (4.3.7)\n",
      "Requirement already satisfied: prompt_toolkit==3.0.50 in /opt/conda/lib/python3.12/site-packages (from -r requirements.txt (line 47)) (3.0.50)\n",
      "Requirement already satisfied: propcache==0.3.1 in /opt/conda/lib/python3.12/site-packages (from -r requirements.txt (line 48)) (0.3.1)\n",
      "Requirement already satisfied: protobuf==5.29.4 in /opt/conda/lib/python3.12/site-packages (from -r requirements.txt (line 49)) (5.29.4)\n",
      "Requirement already satisfied: psutil==7.0.0 in /opt/conda/lib/python3.12/site-packages (from -r requirements.txt (line 50)) (7.0.0)\n",
      "Requirement already satisfied: pure_eval==0.2.3 in /opt/conda/lib/python3.12/site-packages (from -r requirements.txt (line 51)) (0.2.3)\n",
      "Requirement already satisfied: pydantic==2.11.3 in /opt/conda/lib/python3.12/site-packages (from -r requirements.txt (line 52)) (2.11.3)\n",
      "Requirement already satisfied: pydantic_core==2.33.1 in /opt/conda/lib/python3.12/site-packages (from -r requirements.txt (line 53)) (2.33.1)\n",
      "Requirement already satisfied: Pygments==2.19.1 in /opt/conda/lib/python3.12/site-packages (from -r requirements.txt (line 54)) (2.19.1)\n",
      "Requirement already satisfied: python-dateutil==2.9.0.post0 in /opt/conda/lib/python3.12/site-packages (from -r requirements.txt (line 55)) (2.9.0.post0)\n",
      "Requirement already satisfied: pytorch-lightning==2.5.1 in /opt/conda/lib/python3.12/site-packages (from -r requirements.txt (line 56)) (2.5.1)\n",
      "Requirement already satisfied: PyYAML==6.0.2 in /opt/conda/lib/python3.12/site-packages (from -r requirements.txt (line 57)) (6.0.2)\n",
      "Requirement already satisfied: pyzmq==26.4.0 in /opt/conda/lib/python3.12/site-packages (from -r requirements.txt (line 58)) (26.4.0)\n",
      "Requirement already satisfied: referencing==0.36.2 in /opt/conda/lib/python3.12/site-packages (from -r requirements.txt (line 59)) (0.36.2)\n",
      "Requirement already satisfied: requests==2.32.3 in /opt/conda/lib/python3.12/site-packages (from -r requirements.txt (line 60)) (2.32.3)\n",
      "Requirement already satisfied: rpds-py==0.24.0 in /opt/conda/lib/python3.12/site-packages (from -r requirements.txt (line 61)) (0.24.0)\n",
      "Requirement already satisfied: sentry-sdk==2.25.1 in /opt/conda/lib/python3.12/site-packages (from -r requirements.txt (line 62)) (2.25.1)\n",
      "Requirement already satisfied: setproctitle==1.3.5 in /opt/conda/lib/python3.12/site-packages (from -r requirements.txt (line 63)) (1.3.5)\n",
      "Requirement already satisfied: setuptools==78.1.0 in /opt/conda/lib/python3.12/site-packages (from -r requirements.txt (line 64)) (78.1.0)\n",
      "Requirement already satisfied: six==1.17.0 in /opt/conda/lib/python3.12/site-packages (from -r requirements.txt (line 65)) (1.17.0)\n",
      "Requirement already satisfied: smmap==5.0.2 in /opt/conda/lib/python3.12/site-packages (from -r requirements.txt (line 66)) (5.0.2)\n",
      "Requirement already satisfied: stack-data==0.6.3 in /opt/conda/lib/python3.12/site-packages (from -r requirements.txt (line 67)) (0.6.3)\n",
      "Requirement already satisfied: sympy==1.13.1 in /opt/conda/lib/python3.12/site-packages (from -r requirements.txt (line 68)) (1.13.1)\n",
      "Requirement already satisfied: torch==2.6.0 in /opt/conda/lib/python3.12/site-packages (from -r requirements.txt (line 69)) (2.6.0+cu124)\n",
      "Requirement already satisfied: torchmetrics==1.7.1 in /opt/conda/lib/python3.12/site-packages (from -r requirements.txt (line 70)) (1.7.1)\n",
      "Requirement already satisfied: torchvision==0.21.0 in /opt/conda/lib/python3.12/site-packages (from -r requirements.txt (line 71)) (0.21.0+cu124)\n",
      "Requirement already satisfied: tornado==6.4.2 in /opt/conda/lib/python3.12/site-packages (from -r requirements.txt (line 72)) (6.4.2)\n",
      "Requirement already satisfied: tqdm==4.67.1 in /opt/conda/lib/python3.12/site-packages (from -r requirements.txt (line 73)) (4.67.1)\n",
      "Requirement already satisfied: traitlets==5.14.3 in /opt/conda/lib/python3.12/site-packages (from -r requirements.txt (line 74)) (5.14.3)\n",
      "Requirement already satisfied: typing-inspection==0.4.0 in /opt/conda/lib/python3.12/site-packages (from -r requirements.txt (line 75)) (0.4.0)\n",
      "Requirement already satisfied: typing_extensions==4.13.1 in /opt/conda/lib/python3.12/site-packages (from -r requirements.txt (line 76)) (4.13.1)\n",
      "Requirement already satisfied: urllib3==2.3.0 in /opt/conda/lib/python3.12/site-packages (from -r requirements.txt (line 77)) (2.3.0)\n",
      "Requirement already satisfied: wandb==0.19.9 in /opt/conda/lib/python3.12/site-packages (from -r requirements.txt (line 78)) (0.19.9)\n",
      "Requirement already satisfied: wcwidth==0.2.13 in /opt/conda/lib/python3.12/site-packages (from -r requirements.txt (line 79)) (0.2.13)\n",
      "Requirement already satisfied: yarl==1.19.0 in /opt/conda/lib/python3.12/site-packages (from -r requirements.txt (line 80)) (1.19.0)\n",
      "Requirement already satisfied: pexpect>4.3 in /opt/conda/lib/python3.12/site-packages (from ipython==9.1.0->-r requirements.txt (line 24)) (4.9.0)\n",
      "Requirement already satisfied: nvidia-cuda-nvrtc-cu12==12.4.127 in /opt/conda/lib/python3.12/site-packages (from torch==2.6.0->-r requirements.txt (line 69)) (12.4.127)\n",
      "Requirement already satisfied: nvidia-cuda-runtime-cu12==12.4.127 in /opt/conda/lib/python3.12/site-packages (from torch==2.6.0->-r requirements.txt (line 69)) (12.4.127)\n",
      "Requirement already satisfied: nvidia-cuda-cupti-cu12==12.4.127 in /opt/conda/lib/python3.12/site-packages (from torch==2.6.0->-r requirements.txt (line 69)) (12.4.127)\n",
      "Requirement already satisfied: nvidia-cudnn-cu12==9.1.0.70 in /opt/conda/lib/python3.12/site-packages (from torch==2.6.0->-r requirements.txt (line 69)) (9.1.0.70)\n",
      "Requirement already satisfied: nvidia-cublas-cu12==12.4.5.8 in /opt/conda/lib/python3.12/site-packages (from torch==2.6.0->-r requirements.txt (line 69)) (12.4.5.8)\n",
      "Requirement already satisfied: nvidia-cufft-cu12==11.2.1.3 in /opt/conda/lib/python3.12/site-packages (from torch==2.6.0->-r requirements.txt (line 69)) (11.2.1.3)\n",
      "Requirement already satisfied: nvidia-curand-cu12==10.3.5.147 in /opt/conda/lib/python3.12/site-packages (from torch==2.6.0->-r requirements.txt (line 69)) (10.3.5.147)\n",
      "Requirement already satisfied: nvidia-cusolver-cu12==11.6.1.9 in /opt/conda/lib/python3.12/site-packages (from torch==2.6.0->-r requirements.txt (line 69)) (11.6.1.9)\n",
      "Requirement already satisfied: nvidia-cusparse-cu12==12.3.1.170 in /opt/conda/lib/python3.12/site-packages (from torch==2.6.0->-r requirements.txt (line 69)) (12.3.1.170)\n",
      "Requirement already satisfied: nvidia-cusparselt-cu12==0.6.2 in /opt/conda/lib/python3.12/site-packages (from torch==2.6.0->-r requirements.txt (line 69)) (0.6.2)\n",
      "Requirement already satisfied: nvidia-nccl-cu12==2.21.5 in /opt/conda/lib/python3.12/site-packages (from torch==2.6.0->-r requirements.txt (line 69)) (2.21.5)\n",
      "Requirement already satisfied: nvidia-nvtx-cu12==12.4.127 in /opt/conda/lib/python3.12/site-packages (from torch==2.6.0->-r requirements.txt (line 69)) (12.4.127)\n",
      "Requirement already satisfied: nvidia-nvjitlink-cu12==12.4.127 in /opt/conda/lib/python3.12/site-packages (from torch==2.6.0->-r requirements.txt (line 69)) (12.4.127)\n",
      "Requirement already satisfied: triton==3.2.0 in /opt/conda/lib/python3.12/site-packages (from torch==2.6.0->-r requirements.txt (line 69)) (3.2.0)\n",
      "Requirement already satisfied: ptyprocess>=0.5 in /opt/conda/lib/python3.12/site-packages (from pexpect>4.3->ipython==9.1.0->-r requirements.txt (line 24)) (0.7.0)\n",
      "Note: you may need to restart the kernel to use updated packages.\n"
     ]
    }
   ],
   "source": [
    "%pip install -r requirements.txt"
   ]
  },
  {
   "cell_type": "code",
   "execution_count": 2,
   "metadata": {},
   "outputs": [],
   "source": [
    "import wandb\n",
    "import torch\n",
    "import torch.nn as nn\n",
    "import torchvision.models as visionmodels\n",
    "import torchvision.transforms as transforms\n",
    "import lightning as L\n",
    "\n",
    "from lightning.pytorch.loggers import WandbLogger\n",
    "\n",
    "import nbformat\n",
    "\n",
    "import os\n",
    "\n",
    "# Our own modules\n",
    "from datapipeline.asl_image_data_module import ASLImageDataModule\n",
    "from models.asl_model import ASLModel\n",
    "from models.training import sweep, train"
   ]
  },
  {
   "cell_type": "code",
   "execution_count": 3,
   "metadata": {},
   "outputs": [],
   "source": [
    "os.environ[\"WANDB_NOTEBOOK_NAME\"] = \"./dspro2/efficientnet.ipynb\""
   ]
  },
  {
   "cell_type": "markdown",
   "metadata": {},
   "source": [
    "## Preprocessing\n",
    "No general data preprocessing is necessary, however there will be random transforms applied to the images during training. The images are resized to 224x224 pixels, which is the input size of the EfficientNet model. The images are also normalized using the mean and standard deviation of the ImageNet dataset, which is the dataset on which the EfficientNet model was pretrained.\n",
    "\n",
    "The following cells will show the loading of the dataset and the preparation of the mentioned transforms."
   ]
  },
  {
   "cell_type": "code",
   "execution_count": 4,
   "metadata": {},
   "outputs": [],
   "source": [
    "PATH = \"/exchange/dspro2/silent-speech/ASL_Pictures_Dataset\""
   ]
  },
  {
   "cell_type": "code",
   "execution_count": 5,
   "metadata": {},
   "outputs": [],
   "source": [
    "img_size = 224\n",
    "\n",
    "# See https://pytorch.org/vision/master/auto_examples/transforms/plot_transforms_illustrations.html#sphx-glr-auto-examples-transforms-plot-transforms-illustrations-py\n",
    "# for more examples of transforms\n",
    "\n",
    "# Open Idea: Grayscale for anti bias\n",
    "\n",
    "\n",
    "data_transforms = transforms.Compose([\n",
    "    transforms.Resize((img_size, img_size)),\n",
    "    transforms.RandomHorizontalFlip(),\n",
    "    transforms.ColorJitter(brightness=0.2, contrast=0.2, saturation=0.2, hue=0.1), # Idea: ColorJitter for anti bias\n",
    "    transforms.RandomRotation(degrees=5),\n",
    "    transforms.RandomPerspective(distortion_scale=0.5, p=0.5),\n",
    "    transforms.RandomAffine(0, shear=10, scale=(0.8, 1.2)),\n",
    "    transforms.ToTensor(),\n",
    "    transforms.Normalize([0.485, 0.456, 0.406], [0.229, 0.224, 0.225]) # ImageNet stats\n",
    "])"
   ]
  },
  {
   "cell_type": "code",
   "execution_count": 6,
   "metadata": {},
   "outputs": [],
   "source": [
    "datamodule = ASLImageDataModule(path=PATH, transforms=data_transforms, val_split_folder=\"Validation\", batch_size=32, num_workers=128)"
   ]
  },
  {
   "cell_type": "markdown",
   "metadata": {},
   "source": [
    "## Models"
   ]
  },
  {
   "cell_type": "code",
   "execution_count": 7,
   "metadata": {},
   "outputs": [],
   "source": [
    "NUM_CLASSES = 28"
   ]
  },
  {
   "cell_type": "code",
   "execution_count": 8,
   "metadata": {},
   "outputs": [],
   "source": [
    "class ASLEfficientNetRepurpose(nn.Module):\n",
    "    def __init__(self, efficientnet_model: visionmodels.efficientnet.EfficientNet, dropout: float = 0.2, num_classes: int = NUM_CLASSES):\n",
    "        super().__init__()\n",
    "        self.model = efficientnet_model\n",
    "        self.model.requires_grad_(False)\n",
    "        self.model.classifier = nn.Sequential(\n",
    "            nn.Dropout(dropout),\n",
    "            nn.Linear(self.model.classifier[1].in_features, num_classes)\n",
    "        )\n",
    "\n",
    "    def forward(self, x):\n",
    "        return self.model(x)"
   ]
  },
  {
   "cell_type": "code",
   "execution_count": 9,
   "metadata": {},
   "outputs": [],
   "source": [
    "class ASLEfficientNetFinetune(ASLEfficientNetRepurpose):\n",
    "    def __init__(self, efficientnet_model: visionmodels.efficientnet.EfficientNet, dropout: float = 0.2, unfreeze_features: int = 1, num_classes: int = NUM_CLASSES):\n",
    "        super().__init__(efficientnet_model, dropout, num_classes)\n",
    "\n",
    "        assert unfreeze_features > 0, \"unfreeze_features must be greater than 0\"\n",
    "        assert unfreeze_features <= len(self.model.features), \"unfreeze_features must be less than or equal to the number of features in the model\"\n",
    "\n",
    "        self.model.features[-unfreeze_features:].requires_grad_(True)"
   ]
  },
  {
   "cell_type": "markdown",
   "metadata": {},
   "source": [
    "## Training"
   ]
  },
  {
   "cell_type": "code",
   "execution_count": 10,
   "metadata": {},
   "outputs": [],
   "source": [
    "TUNE_TYPE = \"tune_type\"\n",
    "EFFICIENTNET_MODEL = \"efficientnet_model\"\n",
    "\n",
    "DROPOUT = \"dropout\"\n",
    "\n",
    "NAME = \"name\""
   ]
  },
  {
   "cell_type": "code",
   "execution_count": 11,
   "metadata": {},
   "outputs": [],
   "source": [
    "def get_pretrained_efficientnet_model(model_type: str):\n",
    "    if model_type == \"b0\":\n",
    "        efficientnet_model = visionmodels.efficientnet_b0(weights=visionmodels.EfficientNet_B0_Weights.DEFAULT)\n",
    "    elif model_type == \"b1\":\n",
    "        efficientnet_model = visionmodels.efficientnet_b1(weights=visionmodels.EfficientNet_B1_Weights.DEFAULT)\n",
    "    elif model_type == \"b2\":\n",
    "        efficientnet_model = visionmodels.efficientnet_b2(weights=visionmodels.EfficientNet_B2_Weights.DEFAULT)\n",
    "    elif model_type == \"b3\":\n",
    "        efficientnet_model = visionmodels.efficientnet_b3(weights=visionmodels.EfficientNet_B3_Weights.DEFAULT)\n",
    "    elif model_type == \"b4\":\n",
    "        efficientnet_model = visionmodels.efficientnet_b4(weights=visionmodels.EfficientNet_B4_Weights.DEFAULT)\n",
    "    elif model_type == \"b5\":\n",
    "        efficientnet_model = visionmodels.efficientnet_b5(weights=visionmodels.EfficientNet_B5_Weights.DEFAULT)\n",
    "    elif model_type == \"b6\":\n",
    "        efficientnet_model = visionmodels.efficientnet_b6(weights=visionmodels.EfficientNet_B6_Weights.DEFAULT)\n",
    "    elif model_type == \"b7\":\n",
    "        efficientnet_model = visionmodels.efficientnet_b7(weights=visionmodels.EfficientNet_B7_Weights.DEFAULT)\n",
    "\n",
    "    return efficientnet_model"
   ]
  },
  {
   "cell_type": "code",
   "execution_count": 12,
   "metadata": {},
   "outputs": [],
   "source": [
    "def get_asl_efficientnet_model(type: str, efficientnet_model: visionmodels.efficientnet.EfficientNet, dropout: float, unfreeze_features: int = 1) -> nn.Module:\n",
    "    if type == \"repurpose\":\n",
    "        model = ASLEfficientNetRepurpose(efficientnet_model, dropout=dropout)\n",
    "    elif type == \"finetune\":\n",
    "        model = ASLEfficientNetFinetune(efficientnet_model, dropout=dropout, unfreeze_features=unfreeze_features)\n",
    "    else:\n",
    "        raise ValueError(f\"Invalid model type: {type}\")\n",
    "\n",
    "    return model"
   ]
  },
  {
   "cell_type": "code",
   "execution_count": 13,
   "metadata": {},
   "outputs": [],
   "source": [
    "OPTIMIZER = \"optimizer\"\n",
    "LEARNING_RATE = \"learning_rate\"\n",
    "WEIGHT_DECAY = \"weight_decay\"\n",
    "MOMENTUM = \"momentum\"\n",
    "\n",
    "\n",
    "def get_optimizer(optimizer_params: dict, model: nn.Module):\n",
    "    optimizer = optimizer_params[NAME]\n",
    "    learning_rate = optimizer_params[LEARNING_RATE]\n",
    "    weight_decay = optimizer_params[WEIGHT_DECAY]\n",
    "\n",
    "    if optimizer == \"adam\":\n",
    "        return torch.optim.Adam(model.parameters(), lr=learning_rate, weight_decay=weight_decay)\n",
    "    elif optimizer == \"adamw\":\n",
    "        return torch.optim.AdamW(model.parameters(), lr=learning_rate, weight_decay=weight_decay)\n",
    "    elif optimizer == \"rmsprop\":\n",
    "        momentum = optimizer_params[MOMENTUM]\n",
    "        return torch.optim.RMSprop(model.parameters(), lr=learning_rate, weight_decay=weight_decay, momentum=momentum)"
   ]
  },
  {
   "cell_type": "code",
   "execution_count": 14,
   "metadata": {},
   "outputs": [],
   "source": [
    "LEARNING_RATE_SCHEDULER = \"learning_rate_scheduler\"\n",
    "GAMMA = \"gamma\"\n",
    "STEP_SIZE = \"step_size\"\n",
    "FACTOR = \"factor\"\n",
    "\n",
    "\n",
    "def get_learning_rate_scheduler(learning_rate_scheduler_params: dict, optimizer: torch.optim.Optimizer):\n",
    "    learning_rate_scheduler = learning_rate_scheduler_params[NAME]\n",
    "    if learning_rate_scheduler == \"None\":\n",
    "        return None\n",
    "\n",
    "    if learning_rate_scheduler == \"step\":\n",
    "        step_size = learning_rate_scheduler_params[STEP_SIZE]\n",
    "        gamma = learning_rate_scheduler_params[GAMMA]\n",
    "        return torch.optim.lr_scheduler.StepLR(optimizer, step_size=step_size, gamma=gamma)\n",
    "    elif learning_rate_scheduler == \"exponential\":\n",
    "        gamma = learning_rate_scheduler_params[GAMMA]\n",
    "        return torch.optim.lr_scheduler.ExponentialLR(optimizer, gamma=gamma)\n",
    "    elif learning_rate_scheduler == \"constant\":\n",
    "        factor = learning_rate_scheduler_params[FACTOR]\n",
    "        return torch.optim.lr_scheduler.ConstantLR(optimizer, factor=factor)"
   ]
  },
  {
   "cell_type": "code",
   "execution_count": 15,
   "metadata": {},
   "outputs": [],
   "source": [
    "run_id = 0\n",
    "SEED = 42\n",
    "\n",
    "\n",
    "def train_efficient_net():\n",
    "    global run_id\n",
    "    run_id += 1\n",
    "\n",
    "    L.seed_everything(SEED)\n",
    "\n",
    "    wandb.init(name=f\"efficientnet-{run_id}\")\n",
    "\n",
    "    wandb_logger = WandbLogger(log_model=True)\n",
    "\n",
    "    # TODO: A lot of this could become a library\n",
    "\n",
    "    config = wandb.config\n",
    "    efficientnet_model = get_pretrained_efficientnet_model(config[EFFICIENTNET_MODEL])\n",
    "\n",
    "    run_type = config[TUNE_TYPE]\n",
    "    model = get_asl_efficientnet_model(run_type, efficientnet_model, dropout=config[DROPOUT], unfreeze_features=2)\n",
    "\n",
    "    optimizer_params = config[OPTIMIZER]\n",
    "    optimizer = get_optimizer(optimizer_params, model)\n",
    "\n",
    "    learning_rate_scheduler_params = config[LEARNING_RATE_SCHEDULER]\n",
    "    scheduler = get_learning_rate_scheduler(learning_rate_scheduler_params, optimizer)\n",
    "\n",
    "    asl_model = ASLModel(model=model, criterion=nn.CrossEntropyLoss(), optimizer=optimizer, lr_scheduler=scheduler)\n",
    "\n",
    "    train(\n",
    "        model=asl_model,\n",
    "        datamodule=datamodule,\n",
    "        logger=wandb_logger,\n",
    "        seed=SEED\n",
    "    )"
   ]
  },
  {
   "cell_type": "code",
   "execution_count": 16,
   "metadata": {},
   "outputs": [],
   "source": [
    "sweep_config = {\n",
    "    \"method\": \"random\",\n",
    "    \"metric\": {\n",
    "        \"name\": f\"{ASLModel.VALID_ACCURACY}\",\n",
    "        \"goal\": \"maximize\"\n",
    "    },\n",
    "    \"early_terminate\": {\n",
    "        \"type\": \"hyperband\",\n",
    "        \"min_iter\": 5\n",
    "    },\n",
    "    \"parameters\": {\n",
    "        TUNE_TYPE: {\n",
    "            \"values\": [\"repurpose\"] #, \"finetune\"]\n",
    "        },\n",
    "        EFFICIENTNET_MODEL: {\n",
    "            \"values\": [\"b0\", \"b1\"] #, \"b2\", \"b3\"]\n",
    "        },\n",
    "        DROPOUT: {\n",
    "            \"min\": 0.1,\n",
    "            \"max\": 0.5\n",
    "        },\n",
    "        OPTIMIZER: {\n",
    "            \"parameters\": {\n",
    "                NAME: {\n",
    "                    \"values\": [\"adam\", \"adamw\", \"rmsprop\"]\n",
    "                },\n",
    "                LEARNING_RATE: {\n",
    "                    \"min\": 1e-5,\n",
    "                    \"max\": 1e-2,\n",
    "                    \"distribution\": \"log_uniform_values\"\n",
    "                },\n",
    "                WEIGHT_DECAY: {\n",
    "                    \"min\": 0,\n",
    "                    \"max\": 1e-3,\n",
    "                },\n",
    "                MOMENTUM: {\n",
    "                    \"min\": 0.8,\n",
    "                    \"max\": 0.99\n",
    "                }\n",
    "            }\n",
    "        },\n",
    "        LEARNING_RATE_SCHEDULER: {\n",
    "            \"parameters\": {\n",
    "                NAME: {\n",
    "                    \"values\": [\"None\", \"step\", \"exponential\", \"constant\"]\n",
    "                },\n",
    "                STEP_SIZE: {\n",
    "                    \"min\": 1,\n",
    "                    \"max\": 10\n",
    "                },\n",
    "                GAMMA: {\n",
    "                    \"min\": 0.1,\n",
    "                    \"max\": 0.9\n",
    "                },\n",
    "                FACTOR: {\n",
    "                    \"min\": 0.1,\n",
    "                    \"max\": 0.5,\n",
    "                }\n",
    "            }\n",
    "        }\n",
    "    }\n",
    "}"
   ]
  },
  {
   "cell_type": "code",
   "execution_count": null,
   "metadata": {},
   "outputs": [
    {
     "name": "stderr",
     "output_type": "stream",
     "text": [
      "\u001b[34m\u001b[1mwandb\u001b[0m: \u001b[33mWARNING\u001b[0m WANDB_NOTEBOOK_NAME should be a path to a notebook file, couldn't find ./dspro2/efficientnet.ipynb.\n",
      "\u001b[34m\u001b[1mwandb\u001b[0m: Using wandb-core as the SDK backend.  Please refer to https://wandb.me/wandb-core for more information.\n"
     ]
    },
    {
     "name": "stdout",
     "output_type": "stream",
     "text": [
      "Create sweep with ID: yualbs7m\n",
      "Sweep URL: https://wandb.ai/dspro2-silent-speech/silent-speech/sweeps/yualbs7m\n"
     ]
    },
    {
     "name": "stderr",
     "output_type": "stream",
     "text": [
      "\u001b[34m\u001b[1mwandb\u001b[0m: Agent Starting Run: v0dxzle1 with config:\n",
      "\u001b[34m\u001b[1mwandb\u001b[0m: \tdropout: 0.4080004129219553\n",
      "\u001b[34m\u001b[1mwandb\u001b[0m: \tefficientnet_model: b0\n",
      "\u001b[34m\u001b[1mwandb\u001b[0m: \tlearning_rate_scheduler: {'factor': 0.3813333361356862, 'gamma': 0.7275501907434817, 'name': 'constant', 'step_size': 6}\n",
      "\u001b[34m\u001b[1mwandb\u001b[0m: \toptimizer: {'learning_rate': 1.1579640831711996e-05, 'momentum': 0.9782010003214552, 'name': 'adamw', 'weight_decay': 3.534708758912542e-05}\n",
      "\u001b[34m\u001b[1mwandb\u001b[0m: \ttune_type: repurpose\n",
      "Seed set to 42\n",
      "\u001b[34m\u001b[1mwandb\u001b[0m: \u001b[33mWARNING\u001b[0m WANDB_NOTEBOOK_NAME should be a path to a notebook file, couldn't find ./dspro2/efficientnet.ipynb.\n",
      "\u001b[34m\u001b[1mwandb\u001b[0m: Currently logged in as: \u001b[33mv8-luky\u001b[0m (\u001b[33mdspro2-silent-speech\u001b[0m) to \u001b[32mhttps://api.wandb.ai\u001b[0m. Use \u001b[1m`wandb login --relogin`\u001b[0m to force relogin\n"
     ]
    },
    {
     "data": {
      "text/html": [
       "Tracking run with wandb version 0.19.9"
      ],
      "text/plain": [
       "<IPython.core.display.HTML object>"
      ]
     },
     "metadata": {},
     "output_type": "display_data"
    },
    {
     "data": {
      "text/html": [
       "Run data is saved locally in <code>/home/jovyan/dspro2/wandb/run-20250409_230953-v0dxzle1</code>"
      ],
      "text/plain": [
       "<IPython.core.display.HTML object>"
      ]
     },
     "metadata": {},
     "output_type": "display_data"
    },
    {
     "data": {
      "text/html": [
       "Syncing run <strong><a href='https://wandb.ai/dspro2-silent-speech/silent-speech/runs/v0dxzle1' target=\"_blank\">efficientnet-1</a></strong> to <a href='https://wandb.ai/dspro2-silent-speech/silent-speech' target=\"_blank\">Weights & Biases</a> (<a href='https://wandb.me/developer-guide' target=\"_blank\">docs</a>)<br>Sweep page: <a href='https://wandb.ai/dspro2-silent-speech/silent-speech/sweeps/yualbs7m' target=\"_blank\">https://wandb.ai/dspro2-silent-speech/silent-speech/sweeps/yualbs7m</a>"
      ],
      "text/plain": [
       "<IPython.core.display.HTML object>"
      ]
     },
     "metadata": {},
     "output_type": "display_data"
    },
    {
     "data": {
      "text/html": [
       " View project at <a href='https://wandb.ai/dspro2-silent-speech/silent-speech' target=\"_blank\">https://wandb.ai/dspro2-silent-speech/silent-speech</a>"
      ],
      "text/plain": [
       "<IPython.core.display.HTML object>"
      ]
     },
     "metadata": {},
     "output_type": "display_data"
    },
    {
     "data": {
      "text/html": [
       " View sweep at <a href='https://wandb.ai/dspro2-silent-speech/silent-speech/sweeps/yualbs7m' target=\"_blank\">https://wandb.ai/dspro2-silent-speech/silent-speech/sweeps/yualbs7m</a>"
      ],
      "text/plain": [
       "<IPython.core.display.HTML object>"
      ]
     },
     "metadata": {},
     "output_type": "display_data"
    },
    {
     "data": {
      "text/html": [
       " View run at <a href='https://wandb.ai/dspro2-silent-speech/silent-speech/runs/v0dxzle1' target=\"_blank\">https://wandb.ai/dspro2-silent-speech/silent-speech/runs/v0dxzle1</a>"
      ],
      "text/plain": [
       "<IPython.core.display.HTML object>"
      ]
     },
     "metadata": {},
     "output_type": "display_data"
    },
    {
     "name": "stderr",
     "output_type": "stream",
     "text": [
      "Seed set to 42\n",
      "GPU available: True (cuda), used: True\n",
      "TPU available: False, using: 0 TPU cores\n",
      "HPU available: False, using: 0 HPUs\n",
      "You are using a CUDA device ('NVIDIA A16') that has Tensor Cores. To properly utilize them, you should set `torch.set_float32_matmul_precision('medium' | 'high')` which will trade-off precision for performance. For more details, read https://pytorch.org/docs/stable/generated/torch.set_float32_matmul_precision.html#torch.set_float32_matmul_precision\n",
      "/opt/conda/lib/python3.12/site-packages/lightning/pytorch/loggers/wandb.py:397: There is a wandb run already in progress and newly created instances of `WandbLogger` will reuse this run. If this is not desired, call `wandb.finish()` before instantiating `WandbLogger`.\n",
      "LOCAL_RANK: 0 - CUDA_VISIBLE_DEVICES: [0]\n",
      "\n",
      "  | Name           | Type                     | Params | Mode \n",
      "--------------------------------------------------------------------\n",
      "0 | model          | ASLEfficientNetRepurpose | 4.0 M  | train\n",
      "1 | criterion      | CrossEntropyLoss         | 0      | train\n",
      "2 | train_accuracy | MulticlassAccuracy       | 0      | train\n",
      "3 | valid_accuracy | MulticlassAccuracy       | 0      | train\n",
      "4 | test_accuracy  | MulticlassAccuracy       | 0      | train\n",
      "--------------------------------------------------------------------\n",
      "35.9 K    Trainable params\n",
      "4.0 M     Non-trainable params\n",
      "4.0 M     Total params\n",
      "16.174    Total estimated model params size (MB)\n",
      "342       Modules in train mode\n",
      "0         Modules in eval mode\n"
     ]
    },
    {
     "data": {
      "application/vnd.jupyter.widget-view+json": {
       "model_id": "d1a04ce1e67340bf969436fb5322f742",
       "version_major": 2,
       "version_minor": 0
      },
      "text/plain": [
       "Sanity Checking: |          | 0/? [00:00<?, ?it/s]"
      ]
     },
     "metadata": {},
     "output_type": "display_data"
    },
    {
     "data": {
      "application/vnd.jupyter.widget-view+json": {
       "model_id": "437efb6c0a6d46e9a3a4e478a50cfd8b",
       "version_major": 2,
       "version_minor": 0
      },
      "text/plain": [
       "Training: |          | 0/? [00:00<?, ?it/s]"
      ]
     },
     "metadata": {},
     "output_type": "display_data"
    },
    {
     "data": {
      "application/vnd.jupyter.widget-view+json": {
       "model_id": "7cfba73f3b9b469a8bd52df8c28c7759",
       "version_major": 2,
       "version_minor": 0
      },
      "text/plain": [
       "Validation: |          | 0/? [00:00<?, ?it/s]"
      ]
     },
     "metadata": {},
     "output_type": "display_data"
    },
    {
     "name": "stderr",
     "output_type": "stream",
     "text": [
      "Metric valid_accuracy improved. New best score: 0.035\n",
      "Metric train_accuracy improved. New best score: 0.014\n"
     ]
    },
    {
     "data": {
      "application/vnd.jupyter.widget-view+json": {
       "model_id": "c61d801cbb404a8cb8eda8e5174972d5",
       "version_major": 2,
       "version_minor": 0
      },
      "text/plain": [
       "Validation: |          | 0/? [00:00<?, ?it/s]"
      ]
     },
     "metadata": {},
     "output_type": "display_data"
    },
    {
     "name": "stderr",
     "output_type": "stream",
     "text": [
      "Metric valid_accuracy improved by 0.003 >= min_delta = 0.0. New best score: 0.038\n",
      "Metric train_accuracy improved by 0.019 >= min_delta = 0.0. New best score: 0.033\n"
     ]
    },
    {
     "data": {
      "application/vnd.jupyter.widget-view+json": {
       "model_id": "fb4b29902e32499fb79d46b8d769bd5f",
       "version_major": 2,
       "version_minor": 0
      },
      "text/plain": [
       "Validation: |          | 0/? [00:00<?, ?it/s]"
      ]
     },
     "metadata": {},
     "output_type": "display_data"
    },
    {
     "name": "stderr",
     "output_type": "stream",
     "text": [
      "Metric valid_accuracy improved by 0.003 >= min_delta = 0.0. New best score: 0.041\n"
     ]
    },
    {
     "data": {
      "application/vnd.jupyter.widget-view+json": {
       "model_id": "90a8e2fcfd5d434694c9b2c94d680a46",
       "version_major": 2,
       "version_minor": 0
      },
      "text/plain": [
       "Validation: |          | 0/? [00:00<?, ?it/s]"
      ]
     },
     "metadata": {},
     "output_type": "display_data"
    },
    {
     "name": "stderr",
     "output_type": "stream",
     "text": [
      "Metric valid_accuracy improved by 0.004 >= min_delta = 0.0. New best score: 0.045\n"
     ]
    },
    {
     "data": {
      "application/vnd.jupyter.widget-view+json": {
       "model_id": "6fe97942024b49e28a6420a79884663f",
       "version_major": 2,
       "version_minor": 0
      },
      "text/plain": [
       "Validation: |          | 0/? [00:00<?, ?it/s]"
      ]
     },
     "metadata": {},
     "output_type": "display_data"
    },
    {
     "name": "stderr",
     "output_type": "stream",
     "text": [
      "Metric valid_accuracy improved by 0.008 >= min_delta = 0.0. New best score: 0.053\n"
     ]
    },
    {
     "data": {
      "application/vnd.jupyter.widget-view+json": {
       "model_id": "db45f25be65c4a5d8b93b8271ed7d4bf",
       "version_major": 2,
       "version_minor": 0
      },
      "text/plain": [
       "Validation: |          | 0/? [00:00<?, ?it/s]"
      ]
     },
     "metadata": {},
     "output_type": "display_data"
    },
    {
     "name": "stderr",
     "output_type": "stream",
     "text": [
      "Metric valid_accuracy improved by 0.006 >= min_delta = 0.0. New best score: 0.058\n",
      "Metric train_accuracy improved by 0.007 >= min_delta = 0.0. New best score: 0.040\n"
     ]
    },
    {
     "data": {
      "application/vnd.jupyter.widget-view+json": {
       "model_id": "692a61b258104f7d8bb1870290929448",
       "version_major": 2,
       "version_minor": 0
      },
      "text/plain": [
       "Validation: |          | 0/? [00:00<?, ?it/s]"
      ]
     },
     "metadata": {},
     "output_type": "display_data"
    },
    {
     "name": "stderr",
     "output_type": "stream",
     "text": [
      "Metric valid_accuracy improved by 0.012 >= min_delta = 0.0. New best score: 0.070\n"
     ]
    },
    {
     "data": {
      "application/vnd.jupyter.widget-view+json": {
       "model_id": "6233be3a97ac476eb184e1fee73b7700",
       "version_major": 2,
       "version_minor": 0
      },
      "text/plain": [
       "Validation: |          | 0/? [00:00<?, ?it/s]"
      ]
     },
     "metadata": {},
     "output_type": "display_data"
    },
    {
     "name": "stderr",
     "output_type": "stream",
     "text": [
      "Metric valid_accuracy improved by 0.010 >= min_delta = 0.0. New best score: 0.080\n"
     ]
    },
    {
     "data": {
      "application/vnd.jupyter.widget-view+json": {
       "model_id": "c2efb9ed705e494082ad070368ea354d",
       "version_major": 2,
       "version_minor": 0
      },
      "text/plain": [
       "Validation: |          | 0/? [00:00<?, ?it/s]"
      ]
     },
     "metadata": {},
     "output_type": "display_data"
    },
    {
     "name": "stderr",
     "output_type": "stream",
     "text": [
      "Metric valid_accuracy improved by 0.015 >= min_delta = 0.0. New best score: 0.095\n"
     ]
    },
    {
     "data": {
      "application/vnd.jupyter.widget-view+json": {
       "model_id": "4b9b9d0ac40942c1bc52bb9fa2d9b5d2",
       "version_major": 2,
       "version_minor": 0
      },
      "text/plain": [
       "Validation: |          | 0/? [00:00<?, ?it/s]"
      ]
     },
     "metadata": {},
     "output_type": "display_data"
    },
    {
     "name": "stderr",
     "output_type": "stream",
     "text": [
      "Metric valid_accuracy improved by 0.015 >= min_delta = 0.0. New best score: 0.110\n"
     ]
    },
    {
     "data": {
      "application/vnd.jupyter.widget-view+json": {
       "model_id": "1f0abf0f454b4c8b9bcb321db97b0fd9",
       "version_major": 2,
       "version_minor": 0
      },
      "text/plain": [
       "Validation: |          | 0/? [00:00<?, ?it/s]"
      ]
     },
     "metadata": {},
     "output_type": "display_data"
    },
    {
     "name": "stderr",
     "output_type": "stream",
     "text": [
      "Metric valid_accuracy improved by 0.013 >= min_delta = 0.0. New best score: 0.123\n",
      "Metric train_accuracy improved by 0.001 >= min_delta = 0.0. New best score: 0.041\n"
     ]
    },
    {
     "data": {
      "application/vnd.jupyter.widget-view+json": {
       "model_id": "06387a9e89944d56855060f3ad6e16f9",
       "version_major": 2,
       "version_minor": 0
      },
      "text/plain": [
       "Validation: |          | 0/? [00:00<?, ?it/s]"
      ]
     },
     "metadata": {},
     "output_type": "display_data"
    },
    {
     "name": "stderr",
     "output_type": "stream",
     "text": [
      "Metric valid_accuracy improved by 0.011 >= min_delta = 0.0. New best score: 0.135\n",
      "Metric train_accuracy improved by 0.002 >= min_delta = 0.0. New best score: 0.044\n"
     ]
    },
    {
     "data": {
      "application/vnd.jupyter.widget-view+json": {
       "model_id": "6f212c54c8b7430794f1d97a02f0cc1d",
       "version_major": 2,
       "version_minor": 0
      },
      "text/plain": [
       "Validation: |          | 0/? [00:00<?, ?it/s]"
      ]
     },
     "metadata": {},
     "output_type": "display_data"
    },
    {
     "name": "stderr",
     "output_type": "stream",
     "text": [
      "Metric valid_accuracy improved by 0.014 >= min_delta = 0.0. New best score: 0.149\n",
      "Metric train_accuracy improved by 0.001 >= min_delta = 0.0. New best score: 0.045\n"
     ]
    },
    {
     "data": {
      "application/vnd.jupyter.widget-view+json": {
       "model_id": "101bc66abf9c4913acbaa5241c8ed694",
       "version_major": 2,
       "version_minor": 0
      },
      "text/plain": [
       "Validation: |          | 0/? [00:00<?, ?it/s]"
      ]
     },
     "metadata": {},
     "output_type": "display_data"
    },
    {
     "name": "stderr",
     "output_type": "stream",
     "text": [
      "Metric valid_accuracy improved by 0.014 >= min_delta = 0.0. New best score: 0.163\n",
      "Metric train_accuracy improved by 0.003 >= min_delta = 0.0. New best score: 0.048\n"
     ]
    },
    {
     "data": {
      "application/vnd.jupyter.widget-view+json": {
       "model_id": "b2b365c05ac74d20a35179b534dc81b5",
       "version_major": 2,
       "version_minor": 0
      },
      "text/plain": [
       "Validation: |          | 0/? [00:00<?, ?it/s]"
      ]
     },
     "metadata": {},
     "output_type": "display_data"
    },
    {
     "name": "stderr",
     "output_type": "stream",
     "text": [
      "Metric valid_accuracy improved by 0.017 >= min_delta = 0.0. New best score: 0.181\n",
      "Metric train_accuracy improved by 0.001 >= min_delta = 0.0. New best score: 0.050\n"
     ]
    },
    {
     "data": {
      "application/vnd.jupyter.widget-view+json": {
       "model_id": "0e78f8df55ea4eccaa0432ee5f24d74f",
       "version_major": 2,
       "version_minor": 0
      },
      "text/plain": [
       "Validation: |          | 0/? [00:00<?, ?it/s]"
      ]
     },
     "metadata": {},
     "output_type": "display_data"
    },
    {
     "name": "stderr",
     "output_type": "stream",
     "text": [
      "Metric valid_accuracy improved by 0.002 >= min_delta = 0.0. New best score: 0.183\n",
      "Metric train_accuracy improved by 0.003 >= min_delta = 0.0. New best score: 0.052\n"
     ]
    },
    {
     "data": {
      "application/vnd.jupyter.widget-view+json": {
       "model_id": "6658fcc2d0af4e0c97f55752aed92635",
       "version_major": 2,
       "version_minor": 0
      },
      "text/plain": [
       "Validation: |          | 0/? [00:00<?, ?it/s]"
      ]
     },
     "metadata": {},
     "output_type": "display_data"
    },
    {
     "name": "stderr",
     "output_type": "stream",
     "text": [
      "Metric valid_accuracy improved by 0.004 >= min_delta = 0.0. New best score: 0.187\n",
      "Metric train_accuracy improved by 0.003 >= min_delta = 0.0. New best score: 0.055\n"
     ]
    },
    {
     "data": {
      "application/vnd.jupyter.widget-view+json": {
       "model_id": "6490b0b59ad34a70b2eae79184b2be8e",
       "version_major": 2,
       "version_minor": 0
      },
      "text/plain": [
       "Validation: |          | 0/? [00:00<?, ?it/s]"
      ]
     },
     "metadata": {},
     "output_type": "display_data"
    },
    {
     "name": "stderr",
     "output_type": "stream",
     "text": [
      "Metric valid_accuracy improved by 0.017 >= min_delta = 0.0. New best score: 0.204\n",
      "Metric train_accuracy improved by 0.000 >= min_delta = 0.0. New best score: 0.055\n"
     ]
    },
    {
     "data": {
      "application/vnd.jupyter.widget-view+json": {
       "model_id": "e035c0c5b1cb40bb9ef897032259ee30",
       "version_major": 2,
       "version_minor": 0
      },
      "text/plain": [
       "Validation: |          | 0/? [00:00<?, ?it/s]"
      ]
     },
     "metadata": {},
     "output_type": "display_data"
    },
    {
     "name": "stderr",
     "output_type": "stream",
     "text": [
      "Metric valid_accuracy improved by 0.007 >= min_delta = 0.0. New best score: 0.211\n",
      "Metric train_accuracy improved by 0.004 >= min_delta = 0.0. New best score: 0.059\n"
     ]
    },
    {
     "data": {
      "application/vnd.jupyter.widget-view+json": {
       "model_id": "04fd33ec538446daa85f50385f0b42b8",
       "version_major": 2,
       "version_minor": 0
      },
      "text/plain": [
       "Validation: |          | 0/? [00:00<?, ?it/s]"
      ]
     },
     "metadata": {},
     "output_type": "display_data"
    },
    {
     "name": "stderr",
     "output_type": "stream",
     "text": [
      "Metric valid_accuracy improved by 0.002 >= min_delta = 0.0. New best score: 0.212\n",
      "Metric train_accuracy improved by 0.002 >= min_delta = 0.0. New best score: 0.061\n"
     ]
    },
    {
     "data": {
      "application/vnd.jupyter.widget-view+json": {
       "model_id": "9335126e1fae4965a16c95c7d49d7813",
       "version_major": 2,
       "version_minor": 0
      },
      "text/plain": [
       "Validation: |          | 0/? [00:00<?, ?it/s]"
      ]
     },
     "metadata": {},
     "output_type": "display_data"
    },
    {
     "name": "stderr",
     "output_type": "stream",
     "text": [
      "Metric valid_accuracy improved by 0.015 >= min_delta = 0.0. New best score: 0.227\n",
      "Metric train_accuracy improved by 0.003 >= min_delta = 0.0. New best score: 0.064\n"
     ]
    },
    {
     "data": {
      "application/vnd.jupyter.widget-view+json": {
       "model_id": "91704ff94a0244c6b100691f43948742",
       "version_major": 2,
       "version_minor": 0
      },
      "text/plain": [
       "Validation: |          | 0/? [00:00<?, ?it/s]"
      ]
     },
     "metadata": {},
     "output_type": "display_data"
    },
    {
     "name": "stderr",
     "output_type": "stream",
     "text": [
      "Metric train_accuracy improved by 0.000 >= min_delta = 0.0. New best score: 0.064\n"
     ]
    },
    {
     "data": {
      "application/vnd.jupyter.widget-view+json": {
       "model_id": "6a6ab787082646f09717b7a9f62e2eca",
       "version_major": 2,
       "version_minor": 0
      },
      "text/plain": [
       "Validation: |          | 0/? [00:00<?, ?it/s]"
      ]
     },
     "metadata": {},
     "output_type": "display_data"
    },
    {
     "name": "stderr",
     "output_type": "stream",
     "text": [
      "Metric valid_accuracy improved by 0.012 >= min_delta = 0.0. New best score: 0.239\n",
      "Metric train_accuracy improved by 0.002 >= min_delta = 0.0. New best score: 0.066\n"
     ]
    },
    {
     "data": {
      "application/vnd.jupyter.widget-view+json": {
       "model_id": "a22064abdd63405b976ceaeafbdd27f1",
       "version_major": 2,
       "version_minor": 0
      },
      "text/plain": [
       "Validation: |          | 0/? [00:00<?, ?it/s]"
      ]
     },
     "metadata": {},
     "output_type": "display_data"
    },
    {
     "name": "stderr",
     "output_type": "stream",
     "text": [
      "Metric train_accuracy improved by 0.002 >= min_delta = 0.0. New best score: 0.067\n"
     ]
    },
    {
     "data": {
      "application/vnd.jupyter.widget-view+json": {
       "model_id": "b69430539ebd4b4db1a9799b8f9bbadb",
       "version_major": 2,
       "version_minor": 0
      },
      "text/plain": [
       "Validation: |          | 0/? [00:00<?, ?it/s]"
      ]
     },
     "metadata": {},
     "output_type": "display_data"
    },
    {
     "name": "stderr",
     "output_type": "stream",
     "text": [
      "Metric valid_accuracy improved by 0.008 >= min_delta = 0.0. New best score: 0.247\n",
      "Metric train_accuracy improved by 0.001 >= min_delta = 0.0. New best score: 0.069\n"
     ]
    },
    {
     "data": {
      "application/vnd.jupyter.widget-view+json": {
       "model_id": "863a595a61ee4460aeacf50c0394ff79",
       "version_major": 2,
       "version_minor": 0
      },
      "text/plain": [
       "Validation: |          | 0/? [00:00<?, ?it/s]"
      ]
     },
     "metadata": {},
     "output_type": "display_data"
    },
    {
     "name": "stderr",
     "output_type": "stream",
     "text": [
      "Metric valid_accuracy improved by 0.000 >= min_delta = 0.0. New best score: 0.248\n",
      "Metric train_accuracy improved by 0.002 >= min_delta = 0.0. New best score: 0.071\n"
     ]
    },
    {
     "data": {
      "application/vnd.jupyter.widget-view+json": {
       "model_id": "b554cd23954a4cee8b39042c72b35c3e",
       "version_major": 2,
       "version_minor": 0
      },
      "text/plain": [
       "Validation: |          | 0/? [00:00<?, ?it/s]"
      ]
     },
     "metadata": {},
     "output_type": "display_data"
    },
    {
     "name": "stderr",
     "output_type": "stream",
     "text": [
      "Metric valid_accuracy improved by 0.007 >= min_delta = 0.0. New best score: 0.254\n",
      "Metric train_accuracy improved by 0.001 >= min_delta = 0.0. New best score: 0.072\n"
     ]
    },
    {
     "data": {
      "application/vnd.jupyter.widget-view+json": {
       "model_id": "d3c5f4e114084031968a7a6e7c1827fd",
       "version_major": 2,
       "version_minor": 0
      },
      "text/plain": [
       "Validation: |          | 0/? [00:00<?, ?it/s]"
      ]
     },
     "metadata": {},
     "output_type": "display_data"
    },
    {
     "name": "stderr",
     "output_type": "stream",
     "text": [
      "Metric valid_accuracy improved by 0.002 >= min_delta = 0.0. New best score: 0.257\n",
      "Metric train_accuracy improved by 0.000 >= min_delta = 0.0. New best score: 0.073\n"
     ]
    },
    {
     "data": {
      "application/vnd.jupyter.widget-view+json": {
       "model_id": "e4bb3b7072d44aa99ee30c18f1899b3d",
       "version_major": 2,
       "version_minor": 0
      },
      "text/plain": [
       "Validation: |          | 0/? [00:00<?, ?it/s]"
      ]
     },
     "metadata": {},
     "output_type": "display_data"
    },
    {
     "name": "stderr",
     "output_type": "stream",
     "text": [
      "Metric train_accuracy improved by 0.002 >= min_delta = 0.0. New best score: 0.075\n"
     ]
    },
    {
     "data": {
      "application/vnd.jupyter.widget-view+json": {
       "model_id": "203dd62b545f43689e4c81ca2265a7ca",
       "version_major": 2,
       "version_minor": 0
      },
      "text/plain": [
       "Validation: |          | 0/? [00:00<?, ?it/s]"
      ]
     },
     "metadata": {},
     "output_type": "display_data"
    },
    {
     "name": "stderr",
     "output_type": "stream",
     "text": [
      "Metric valid_accuracy improved by 0.014 >= min_delta = 0.0. New best score: 0.271\n",
      "Metric train_accuracy improved by 0.003 >= min_delta = 0.0. New best score: 0.077\n"
     ]
    },
    {
     "data": {
      "application/vnd.jupyter.widget-view+json": {
       "model_id": "93f18cf2a5f04184b81b3c388d267788",
       "version_major": 2,
       "version_minor": 0
      },
      "text/plain": [
       "Validation: |          | 0/? [00:00<?, ?it/s]"
      ]
     },
     "metadata": {},
     "output_type": "display_data"
    },
    {
     "name": "stderr",
     "output_type": "stream",
     "text": [
      "Metric valid_accuracy improved by 0.003 >= min_delta = 0.0. New best score: 0.273\n",
      "Metric train_accuracy improved by 0.002 >= min_delta = 0.0. New best score: 0.079\n"
     ]
    },
    {
     "data": {
      "application/vnd.jupyter.widget-view+json": {
       "model_id": "24825a05ec244bbf885ab59dd9c38020",
       "version_major": 2,
       "version_minor": 0
      },
      "text/plain": [
       "Validation: |          | 0/? [00:00<?, ?it/s]"
      ]
     },
     "metadata": {},
     "output_type": "display_data"
    },
    {
     "name": "stderr",
     "output_type": "stream",
     "text": [
      "Metric valid_accuracy improved by 0.005 >= min_delta = 0.0. New best score: 0.278\n",
      "Metric train_accuracy improved by 0.000 >= min_delta = 0.0. New best score: 0.079\n"
     ]
    },
    {
     "data": {
      "application/vnd.jupyter.widget-view+json": {
       "model_id": "3c02e7d3a9e54bc9a5fa54bf8c373176",
       "version_major": 2,
       "version_minor": 0
      },
      "text/plain": [
       "Validation: |          | 0/? [00:00<?, ?it/s]"
      ]
     },
     "metadata": {},
     "output_type": "display_data"
    },
    {
     "name": "stderr",
     "output_type": "stream",
     "text": [
      "Metric train_accuracy improved by 0.001 >= min_delta = 0.0. New best score: 0.081\n"
     ]
    },
    {
     "data": {
      "application/vnd.jupyter.widget-view+json": {
       "model_id": "0c35645654f3437581ed9bb5de1ec07d",
       "version_major": 2,
       "version_minor": 0
      },
      "text/plain": [
       "Validation: |          | 0/? [00:00<?, ?it/s]"
      ]
     },
     "metadata": {},
     "output_type": "display_data"
    },
    {
     "name": "stderr",
     "output_type": "stream",
     "text": [
      "Metric valid_accuracy improved by 0.009 >= min_delta = 0.0. New best score: 0.287\n",
      "Metric train_accuracy improved by 0.002 >= min_delta = 0.0. New best score: 0.082\n"
     ]
    },
    {
     "data": {
      "application/vnd.jupyter.widget-view+json": {
       "model_id": "4c5f7d76d95448688a0fe74f8be5ab4f",
       "version_major": 2,
       "version_minor": 0
      },
      "text/plain": [
       "Validation: |          | 0/? [00:00<?, ?it/s]"
      ]
     },
     "metadata": {},
     "output_type": "display_data"
    },
    {
     "name": "stderr",
     "output_type": "stream",
     "text": [
      "Metric train_accuracy improved by 0.000 >= min_delta = 0.0. New best score: 0.082\n"
     ]
    },
    {
     "data": {
      "application/vnd.jupyter.widget-view+json": {
       "model_id": "ac891a729de54993a98cb25fc281cc64",
       "version_major": 2,
       "version_minor": 0
      },
      "text/plain": [
       "Validation: |          | 0/? [00:00<?, ?it/s]"
      ]
     },
     "metadata": {},
     "output_type": "display_data"
    },
    {
     "name": "stderr",
     "output_type": "stream",
     "text": [
      "Metric train_accuracy improved by 0.001 >= min_delta = 0.0. New best score: 0.084\n"
     ]
    },
    {
     "data": {
      "application/vnd.jupyter.widget-view+json": {
       "model_id": "38473fe65d8b4fb6a111f45d075905d5",
       "version_major": 2,
       "version_minor": 0
      },
      "text/plain": [
       "Validation: |          | 0/? [00:00<?, ?it/s]"
      ]
     },
     "metadata": {},
     "output_type": "display_data"
    },
    {
     "name": "stderr",
     "output_type": "stream",
     "text": [
      "Metric valid_accuracy improved by 0.011 >= min_delta = 0.0. New best score: 0.298\n",
      "Metric train_accuracy improved by 0.002 >= min_delta = 0.0. New best score: 0.086\n"
     ]
    },
    {
     "data": {
      "application/vnd.jupyter.widget-view+json": {
       "model_id": "5ee385910f1445589856cbfd67b6e218",
       "version_major": 2,
       "version_minor": 0
      },
      "text/plain": [
       "Validation: |          | 0/? [00:00<?, ?it/s]"
      ]
     },
     "metadata": {},
     "output_type": "display_data"
    },
    {
     "name": "stderr",
     "output_type": "stream",
     "text": [
      "Metric train_accuracy improved by 0.000 >= min_delta = 0.0. New best score: 0.086\n"
     ]
    },
    {
     "data": {
      "application/vnd.jupyter.widget-view+json": {
       "model_id": "5c7885bdddb047acb71acd6e73965b18",
       "version_major": 2,
       "version_minor": 0
      },
      "text/plain": [
       "Validation: |          | 0/? [00:00<?, ?it/s]"
      ]
     },
     "metadata": {},
     "output_type": "display_data"
    },
    {
     "name": "stderr",
     "output_type": "stream",
     "text": [
      "Metric valid_accuracy improved by 0.004 >= min_delta = 0.0. New best score: 0.302\n",
      "Metric train_accuracy improved by 0.000 >= min_delta = 0.0. New best score: 0.087\n"
     ]
    },
    {
     "data": {
      "application/vnd.jupyter.widget-view+json": {
       "model_id": "d87f99837cd0418695917738e554badb",
       "version_major": 2,
       "version_minor": 0
      },
      "text/plain": [
       "Validation: |          | 0/? [00:00<?, ?it/s]"
      ]
     },
     "metadata": {},
     "output_type": "display_data"
    },
    {
     "name": "stderr",
     "output_type": "stream",
     "text": [
      "Metric train_accuracy improved by 0.002 >= min_delta = 0.0. New best score: 0.088\n"
     ]
    },
    {
     "data": {
      "application/vnd.jupyter.widget-view+json": {
       "model_id": "797cdf74d73c4f168390bd0ef527a3a6",
       "version_major": 2,
       "version_minor": 0
      },
      "text/plain": [
       "Validation: |          | 0/? [00:00<?, ?it/s]"
      ]
     },
     "metadata": {},
     "output_type": "display_data"
    },
    {
     "name": "stderr",
     "output_type": "stream",
     "text": [
      "Metric train_accuracy improved by 0.000 >= min_delta = 0.0. New best score: 0.089\n"
     ]
    },
    {
     "data": {
      "application/vnd.jupyter.widget-view+json": {
       "model_id": "70bb563620e9459ab9715c9855cbd3c0",
       "version_major": 2,
       "version_minor": 0
      },
      "text/plain": [
       "Validation: |          | 0/? [00:00<?, ?it/s]"
      ]
     },
     "metadata": {},
     "output_type": "display_data"
    },
    {
     "name": "stderr",
     "output_type": "stream",
     "text": [
      "Metric valid_accuracy improved by 0.008 >= min_delta = 0.0. New best score: 0.310\n",
      "Metric train_accuracy improved by 0.003 >= min_delta = 0.0. New best score: 0.091\n"
     ]
    },
    {
     "data": {
      "application/vnd.jupyter.widget-view+json": {
       "model_id": "003c8828a3e84edfb6a73fd5178442d0",
       "version_major": 2,
       "version_minor": 0
      },
      "text/plain": [
       "Validation: |          | 0/? [00:00<?, ?it/s]"
      ]
     },
     "metadata": {},
     "output_type": "display_data"
    },
    {
     "data": {
      "application/vnd.jupyter.widget-view+json": {
       "model_id": "40536ec101334051a965360429e01f73",
       "version_major": 2,
       "version_minor": 0
      },
      "text/plain": [
       "Validation: |          | 0/? [00:00<?, ?it/s]"
      ]
     },
     "metadata": {},
     "output_type": "display_data"
    },
    {
     "name": "stderr",
     "output_type": "stream",
     "text": [
      "Metric train_accuracy improved by 0.001 >= min_delta = 0.0. New best score: 0.092\n"
     ]
    },
    {
     "data": {
      "application/vnd.jupyter.widget-view+json": {
       "model_id": "86e6bc81e0b548c4941ac191e4a237b9",
       "version_major": 2,
       "version_minor": 0
      },
      "text/plain": [
       "Validation: |          | 0/? [00:00<?, ?it/s]"
      ]
     },
     "metadata": {},
     "output_type": "display_data"
    },
    {
     "name": "stderr",
     "output_type": "stream",
     "text": [
      "Metric train_accuracy improved by 0.000 >= min_delta = 0.0. New best score: 0.092\n"
     ]
    },
    {
     "data": {
      "application/vnd.jupyter.widget-view+json": {
       "model_id": "9444371b020a4deb8a9a3901ce65986e",
       "version_major": 2,
       "version_minor": 0
      },
      "text/plain": [
       "Validation: |          | 0/? [00:00<?, ?it/s]"
      ]
     },
     "metadata": {},
     "output_type": "display_data"
    },
    {
     "name": "stderr",
     "output_type": "stream",
     "text": [
      "Metric train_accuracy improved by 0.001 >= min_delta = 0.0. New best score: 0.093\n"
     ]
    },
    {
     "data": {
      "application/vnd.jupyter.widget-view+json": {
       "model_id": "b4d258e3ec9c4564be558c61b72c40e6",
       "version_major": 2,
       "version_minor": 0
      },
      "text/plain": [
       "Validation: |          | 0/? [00:00<?, ?it/s]"
      ]
     },
     "metadata": {},
     "output_type": "display_data"
    },
    {
     "name": "stderr",
     "output_type": "stream",
     "text": [
      "Monitored metric valid_accuracy did not improve in the last 5 records. Best score: 0.310. Signaling Trainer to stop.\n",
      "Metric train_accuracy improved by 0.001 >= min_delta = 0.0. New best score: 0.094\n"
     ]
    },
    {
     "data": {
      "text/html": [],
      "text/plain": [
       "<IPython.core.display.HTML object>"
      ]
     },
     "metadata": {},
     "output_type": "display_data"
    },
    {
     "data": {
      "text/html": [
       "<br>    <style><br>        .wandb-row {<br>            display: flex;<br>            flex-direction: row;<br>            flex-wrap: wrap;<br>            justify-content: flex-start;<br>            width: 100%;<br>        }<br>        .wandb-col {<br>            display: flex;<br>            flex-direction: column;<br>            flex-basis: 100%;<br>            flex: 1;<br>            padding: 10px;<br>        }<br>    </style><br><div class=\"wandb-row\"><div class=\"wandb-col\"><h3>Run history:</h3><br/><table class=\"wandb\"><tr><td>epoch</td><td>▁▁▁▁▂▂▂▃▃▃▃▃▃▃▄▄▄▄▄▄▄▅▅▅▅▅▆▆▆▆▆▆▆▆▆▆▇▇▇█</td></tr><tr><td>lr-AdamW</td><td>▁▁▁▁▁███████████████████████████████████</td></tr><tr><td>lr-AdamW-momentum</td><td>▁▁▁▁▁▁▁▁▁▁▁▁▁▁▁▁▁▁▁▁▁▁▁▁▁▁▁▁▁▁▁▁▁▁▁▁▁▁▁▁</td></tr><tr><td>lr-AdamW-weight_decay</td><td>▁▁▁▁▁▁▁▁▁▁▁▁▁▁▁▁▁▁▁▁▁▁▁▁▁▁▁▁▁▁▁▁▁▁▁▁▁▁▁▁</td></tr><tr><td>train_accuracy_epoch</td><td>▁▃▂▃▃▃▃▃▃▃▄▄▄▄▅▅▅▅▅▆▆▆▆▆▆▇▇▇▇▇▇▇▇▇██████</td></tr><tr><td>train_accuracy_step</td><td>▂▅▁▂▁▁▇▁▂▁▃▂▁▆▂▁▁▃▁▅▁▂▁▁▁▅▃▁█▅▁▁▁▂▁▄▇▁▁▅</td></tr><tr><td>train_loss_epoch</td><td>█▄▄▄▄▃▄▄▄▄▃▃▃▃▃▃▃▃▂▂▂▂▂▂▂▂▂▂▂▂▂▁▁▁▁▁▁▁▁▁</td></tr><tr><td>train_loss_step</td><td>█▅▅▄▄▄▆▄▆▄▄▁▆▆▇▆▄▇▄▅▆▅▃▄▃▆▇▃▅▅▄▂▆▄▃▂▃▄▆▆</td></tr><tr><td>trainer/global_step</td><td>▂▁▁▃▁▂▂▂▅▂▂▂▂▂▂▂▂▂▃▃▃▃▃█▃▃▃▄▄▄▄▄▄▅▅▅▅▅▅▅</td></tr><tr><td>valid_accuracy_epoch</td><td>▁▁▁▁▁▂▂▃▃▃▄▄▅▅▅▅▅▆▆▆▆▆▆▇▇▇▇▇▇▇▇█████████</td></tr><tr><td>valid_accuracy_step</td><td>▂▁▁▁▂▁▁▁▁▁▄▄▁▇▁▃▁▅▁▂█▆▃▁▁▃▁█▇▁▅▄▄▂▆▁█▅▆█</td></tr><tr><td>valid_loss_epoch</td><td>█▇▇█▆▆▇▆▆▅▅▅▄▄▄▄▄▄▄▃▄▃▃▃▃▂▂▂▂▂▂▂▄▁▁▁▂█▁▁</td></tr><tr><td>valid_loss_step</td><td>▆▆▆█▃▆▄▃▃▇▇▂▆▇▃▇▃▂▅▃▂▂▆▅▆▆▅▆▄▅▆▇▅▃▂▁▅▂▁▂</td></tr></table><br/></div><div class=\"wandb-col\"><h3>Run summary:</h3><br/><table class=\"wandb\"><tr><td>epoch</td><td>46</td></tr><tr><td>lr-AdamW</td><td>1e-05</td></tr><tr><td>lr-AdamW-momentum</td><td>0.9</td></tr><tr><td>lr-AdamW-weight_decay</td><td>4e-05</td></tr><tr><td>train_accuracy_epoch</td><td>0.09421</td></tr><tr><td>train_accuracy_step</td><td>0.09375</td></tr><tr><td>train_loss_epoch</td><td>3.24302</td></tr><tr><td>train_loss_step</td><td>3.05685</td></tr><tr><td>trainer/global_step</td><td>146733</td></tr><tr><td>valid_accuracy_epoch</td><td>0.30902</td></tr><tr><td>valid_accuracy_step</td><td>0.21429</td></tr><tr><td>valid_loss_epoch</td><td>2.86082</td></tr><tr><td>valid_loss_step</td><td>2.88932</td></tr></table><br/></div></div>"
      ],
      "text/plain": [
       "<IPython.core.display.HTML object>"
      ]
     },
     "metadata": {},
     "output_type": "display_data"
    },
    {
     "data": {
      "text/html": [
       " View run <strong style=\"color:#cdcd00\">efficientnet-1</strong> at: <a href='https://wandb.ai/dspro2-silent-speech/silent-speech/runs/v0dxzle1' target=\"_blank\">https://wandb.ai/dspro2-silent-speech/silent-speech/runs/v0dxzle1</a><br> View project at: <a href='https://wandb.ai/dspro2-silent-speech/silent-speech' target=\"_blank\">https://wandb.ai/dspro2-silent-speech/silent-speech</a><br>Synced 5 W&B file(s), 0 media file(s), 6 artifact file(s) and 0 other file(s)"
      ],
      "text/plain": [
       "<IPython.core.display.HTML object>"
      ]
     },
     "metadata": {},
     "output_type": "display_data"
    },
    {
     "data": {
      "text/html": [
       "Find logs at: <code>./wandb/run-20250409_230953-v0dxzle1/logs</code>"
      ],
      "text/plain": [
       "<IPython.core.display.HTML object>"
      ]
     },
     "metadata": {},
     "output_type": "display_data"
    },
    {
     "name": "stderr",
     "output_type": "stream",
     "text": [
      "\u001b[34m\u001b[1mwandb\u001b[0m: Agent Starting Run: hmgpqr7e with config:\n",
      "\u001b[34m\u001b[1mwandb\u001b[0m: \tdropout: 0.17138116088622649\n",
      "\u001b[34m\u001b[1mwandb\u001b[0m: \tefficientnet_model: b0\n",
      "\u001b[34m\u001b[1mwandb\u001b[0m: \tlearning_rate_scheduler: {'factor': 0.21845290803683823, 'gamma': 0.40059128257938825, 'name': 'step', 'step_size': 1}\n",
      "\u001b[34m\u001b[1mwandb\u001b[0m: \toptimizer: {'learning_rate': 0.0005751594692431429, 'momentum': 0.9215841094632776, 'name': 'adamw', 'weight_decay': 0.0002486823612655453}\n",
      "\u001b[34m\u001b[1mwandb\u001b[0m: \ttune_type: repurpose\n",
      "Seed set to 42\n",
      "\u001b[34m\u001b[1mwandb\u001b[0m: \u001b[33mWARNING\u001b[0m WANDB_NOTEBOOK_NAME should be a path to a notebook file, couldn't find ./dspro2/efficientnet.ipynb.\n"
     ]
    },
    {
     "data": {
      "text/html": [
       "Tracking run with wandb version 0.19.9"
      ],
      "text/plain": [
       "<IPython.core.display.HTML object>"
      ]
     },
     "metadata": {},
     "output_type": "display_data"
    },
    {
     "data": {
      "text/html": [
       "Run data is saved locally in <code>/home/jovyan/dspro2/wandb/run-20250410_031645-hmgpqr7e</code>"
      ],
      "text/plain": [
       "<IPython.core.display.HTML object>"
      ]
     },
     "metadata": {},
     "output_type": "display_data"
    },
    {
     "data": {
      "text/html": [
       "Syncing run <strong><a href='https://wandb.ai/dspro2-silent-speech/silent-speech/runs/hmgpqr7e' target=\"_blank\">efficientnet-2</a></strong> to <a href='https://wandb.ai/dspro2-silent-speech/silent-speech' target=\"_blank\">Weights & Biases</a> (<a href='https://wandb.me/developer-guide' target=\"_blank\">docs</a>)<br>Sweep page: <a href='https://wandb.ai/dspro2-silent-speech/silent-speech/sweeps/yualbs7m' target=\"_blank\">https://wandb.ai/dspro2-silent-speech/silent-speech/sweeps/yualbs7m</a>"
      ],
      "text/plain": [
       "<IPython.core.display.HTML object>"
      ]
     },
     "metadata": {},
     "output_type": "display_data"
    },
    {
     "data": {
      "text/html": [
       " View project at <a href='https://wandb.ai/dspro2-silent-speech/silent-speech' target=\"_blank\">https://wandb.ai/dspro2-silent-speech/silent-speech</a>"
      ],
      "text/plain": [
       "<IPython.core.display.HTML object>"
      ]
     },
     "metadata": {},
     "output_type": "display_data"
    },
    {
     "data": {
      "text/html": [
       " View sweep at <a href='https://wandb.ai/dspro2-silent-speech/silent-speech/sweeps/yualbs7m' target=\"_blank\">https://wandb.ai/dspro2-silent-speech/silent-speech/sweeps/yualbs7m</a>"
      ],
      "text/plain": [
       "<IPython.core.display.HTML object>"
      ]
     },
     "metadata": {},
     "output_type": "display_data"
    },
    {
     "data": {
      "text/html": [
       " View run at <a href='https://wandb.ai/dspro2-silent-speech/silent-speech/runs/hmgpqr7e' target=\"_blank\">https://wandb.ai/dspro2-silent-speech/silent-speech/runs/hmgpqr7e</a>"
      ],
      "text/plain": [
       "<IPython.core.display.HTML object>"
      ]
     },
     "metadata": {},
     "output_type": "display_data"
    },
    {
     "name": "stderr",
     "output_type": "stream",
     "text": [
      "Seed set to 42\n",
      "GPU available: True (cuda), used: True\n",
      "TPU available: False, using: 0 TPU cores\n",
      "HPU available: False, using: 0 HPUs\n",
      "/opt/conda/lib/python3.12/site-packages/lightning/pytorch/loggers/wandb.py:397: There is a wandb run already in progress and newly created instances of `WandbLogger` will reuse this run. If this is not desired, call `wandb.finish()` before instantiating `WandbLogger`.\n",
      "LOCAL_RANK: 0 - CUDA_VISIBLE_DEVICES: [0]\n",
      "\n",
      "  | Name           | Type                     | Params | Mode \n",
      "--------------------------------------------------------------------\n",
      "0 | model          | ASLEfficientNetRepurpose | 4.0 M  | train\n",
      "1 | criterion      | CrossEntropyLoss         | 0      | train\n",
      "2 | train_accuracy | MulticlassAccuracy       | 0      | train\n",
      "3 | valid_accuracy | MulticlassAccuracy       | 0      | train\n",
      "4 | test_accuracy  | MulticlassAccuracy       | 0      | train\n",
      "--------------------------------------------------------------------\n",
      "35.9 K    Trainable params\n",
      "4.0 M     Non-trainable params\n",
      "4.0 M     Total params\n",
      "16.174    Total estimated model params size (MB)\n",
      "342       Modules in train mode\n",
      "0         Modules in eval mode\n"
     ]
    },
    {
     "data": {
      "application/vnd.jupyter.widget-view+json": {
       "model_id": "4fc65b9520e74b4a84943b868d799ac6",
       "version_major": 2,
       "version_minor": 0
      },
      "text/plain": [
       "Sanity Checking: |          | 0/? [00:00<?, ?it/s]"
      ]
     },
     "metadata": {},
     "output_type": "display_data"
    },
    {
     "data": {
      "application/vnd.jupyter.widget-view+json": {
       "model_id": "45b2a76687434fe8993c3eb1d151375b",
       "version_major": 2,
       "version_minor": 0
      },
      "text/plain": [
       "Training: |          | 0/? [00:00<?, ?it/s]"
      ]
     },
     "metadata": {},
     "output_type": "display_data"
    },
    {
     "data": {
      "application/vnd.jupyter.widget-view+json": {
       "model_id": "525456226b9b48b392ad8d44bbef8db9",
       "version_major": 2,
       "version_minor": 0
      },
      "text/plain": [
       "Validation: |          | 0/? [00:00<?, ?it/s]"
      ]
     },
     "metadata": {},
     "output_type": "display_data"
    },
    {
     "name": "stderr",
     "output_type": "stream",
     "text": [
      "Metric valid_accuracy improved. New best score: 0.044\n",
      "Metric train_accuracy improved. New best score: 0.820\n"
     ]
    },
    {
     "data": {
      "application/vnd.jupyter.widget-view+json": {
       "model_id": "d8bf983f842644eb8f3d733642092126",
       "version_major": 2,
       "version_minor": 0
      },
      "text/plain": [
       "Validation: |          | 0/? [00:00<?, ?it/s]"
      ]
     },
     "metadata": {},
     "output_type": "display_data"
    },
    {
     "name": "stderr",
     "output_type": "stream",
     "text": [
      "Metric valid_accuracy improved by 0.004 >= min_delta = 0.0. New best score: 0.049\n"
     ]
    },
    {
     "data": {
      "application/vnd.jupyter.widget-view+json": {
       "model_id": "44e1aa6350e5455488a54c5a26710a4a",
       "version_major": 2,
       "version_minor": 0
      },
      "text/plain": [
       "Validation: |          | 0/? [00:00<?, ?it/s]"
      ]
     },
     "metadata": {},
     "output_type": "display_data"
    },
    {
     "name": "stderr",
     "output_type": "stream",
     "text": [
      "Metric valid_accuracy improved by 0.009 >= min_delta = 0.0. New best score: 0.058\n"
     ]
    },
    {
     "data": {
      "application/vnd.jupyter.widget-view+json": {
       "model_id": "b44a408e418647a1ac33763dc820e20d",
       "version_major": 2,
       "version_minor": 0
      },
      "text/plain": [
       "Validation: |          | 0/? [00:00<?, ?it/s]"
      ]
     },
     "metadata": {},
     "output_type": "display_data"
    },
    {
     "name": "stderr",
     "output_type": "stream",
     "text": [
      "Metric valid_accuracy improved by 0.043 >= min_delta = 0.0. New best score: 0.101\n"
     ]
    },
    {
     "data": {
      "application/vnd.jupyter.widget-view+json": {
       "model_id": "b0136915121943fa93a8407450f86345",
       "version_major": 2,
       "version_minor": 0
      },
      "text/plain": [
       "Validation: |          | 0/? [00:00<?, ?it/s]"
      ]
     },
     "metadata": {},
     "output_type": "display_data"
    },
    {
     "name": "stderr",
     "output_type": "stream",
     "text": [
      "Metric valid_accuracy improved by 0.083 >= min_delta = 0.0. New best score: 0.184\n"
     ]
    },
    {
     "data": {
      "application/vnd.jupyter.widget-view+json": {
       "model_id": "7a5ec7aae1884b499699821044dffa08",
       "version_major": 2,
       "version_minor": 0
      },
      "text/plain": [
       "Validation: |          | 0/? [00:00<?, ?it/s]"
      ]
     },
     "metadata": {},
     "output_type": "display_data"
    },
    {
     "name": "stderr",
     "output_type": "stream",
     "text": [
      "Metric valid_accuracy improved by 0.042 >= min_delta = 0.0. New best score: 0.226\n",
      "Monitored metric train_accuracy did not improve in the last 5 records. Best score: 0.820. Signaling Trainer to stop.\n"
     ]
    },
    {
     "data": {
      "text/html": [],
      "text/plain": [
       "<IPython.core.display.HTML object>"
      ]
     },
     "metadata": {},
     "output_type": "display_data"
    },
    {
     "data": {
      "text/html": [
       "<br>    <style><br>        .wandb-row {<br>            display: flex;<br>            flex-direction: row;<br>            flex-wrap: wrap;<br>            justify-content: flex-start;<br>            width: 100%;<br>        }<br>        .wandb-col {<br>            display: flex;<br>            flex-direction: column;<br>            flex-basis: 100%;<br>            flex: 1;<br>            padding: 10px;<br>        }<br>    </style><br><div class=\"wandb-row\"><div class=\"wandb-col\"><h3>Run history:</h3><br/><table class=\"wandb\"><tr><td>epoch</td><td>▁▁▁▁▁▂▂▂▂▂▂▂▂▂▄▄▄▄▄▄▅▅▅▅▇▇▇▇▇▇▇▇████████</td></tr><tr><td>lr-AdamW</td><td>███████▄▄▄▄▄▄▂▂▂▂▁▁▁▁▁▁▁▁▁▁▁▁▁▁▁▁▁▁▁▁▁▁▁</td></tr><tr><td>lr-AdamW-momentum</td><td>▁▁▁▁▁▁▁▁▁▁▁▁▁▁▁▁▁▁▁▁▁▁▁▁▁▁▁▁▁▁▁▁▁▁▁▁▁▁▁▁</td></tr><tr><td>lr-AdamW-weight_decay</td><td>▁▁▁▁▁▁▁▁▁▁▁▁▁▁▁▁▁▁▁▁▁▁▁▁▁▁▁▁▁▁▁▁▁▁▁▁▁▁▁▁</td></tr><tr><td>train_accuracy_epoch</td><td>█▇▅▂▁▁</td></tr><tr><td>train_accuracy_step</td><td>█▅▁██████▁█▁█▁███▁▁▁▁▁█▁███▁▁▁▁▄▁▁▁▁▁▁▁▁</td></tr><tr><td>train_loss_epoch</td><td>▁▁▅▇██</td></tr><tr><td>train_loss_step</td><td>▁▁▁▁▁▅█▁▁▁▁█▁▁▅▁▅▂▁▃▁▅▃▃▃▄▃▃▂▄▃▃▃▃▃▄▃▃▃▃</td></tr><tr><td>trainer/global_step</td><td>▁▁▁▁▁▁▃▁▁▁▂▂▂▂▂▂▂▅▂▂▂▂▂▂▂▃▃▃▃▃▃█▃▃▃▃▃▃▃▃</td></tr><tr><td>valid_accuracy_epoch</td><td>▁▁▂▃▆█</td></tr><tr><td>valid_accuracy_step</td><td>▁▁▁▁▁▁▁▇▄▁▁▁▁▁▁▁▁▁▆▁▁▁▁▁▁▂▁▁▁▁▁▁▆▃▂▁█▁▁▇</td></tr><tr><td>valid_loss_epoch</td><td>█▄▂▂▁▁</td></tr><tr><td>valid_loss_step</td><td>▇██▆▅▃▅▆▇▆▅▅▅▄▅▅▄▁▄▄▂▃▃▃▃▃▃▃▃▃▂▃▃▂▂▃▂▂▃▂</td></tr></table><br/></div><div class=\"wandb-col\"><h3>Run summary:</h3><br/><table class=\"wandb\"><tr><td>epoch</td><td>5</td></tr><tr><td>lr-AdamW</td><td>1e-05</td></tr><tr><td>lr-AdamW-momentum</td><td>0.9</td></tr><tr><td>lr-AdamW-weight_decay</td><td>0.00025</td></tr><tr><td>train_accuracy_epoch</td><td>0.05475</td></tr><tr><td>train_accuracy_step</td><td>0.09375</td></tr><tr><td>train_loss_epoch</td><td>3.38633</td></tr><tr><td>train_loss_step</td><td>3.02582</td></tr><tr><td>trainer/global_step</td><td>18731</td></tr><tr><td>valid_accuracy_epoch</td><td>0.2259</td></tr><tr><td>valid_accuracy_step</td><td>0.14286</td></tr><tr><td>valid_loss_epoch</td><td>3.0773</td></tr><tr><td>valid_loss_step</td><td>2.89461</td></tr></table><br/></div></div>"
      ],
      "text/plain": [
       "<IPython.core.display.HTML object>"
      ]
     },
     "metadata": {},
     "output_type": "display_data"
    },
    {
     "data": {
      "text/html": [
       " View run <strong style=\"color:#cdcd00\">efficientnet-2</strong> at: <a href='https://wandb.ai/dspro2-silent-speech/silent-speech/runs/hmgpqr7e' target=\"_blank\">https://wandb.ai/dspro2-silent-speech/silent-speech/runs/hmgpqr7e</a><br> View project at: <a href='https://wandb.ai/dspro2-silent-speech/silent-speech' target=\"_blank\">https://wandb.ai/dspro2-silent-speech/silent-speech</a><br>Synced 5 W&B file(s), 0 media file(s), 6 artifact file(s) and 0 other file(s)"
      ],
      "text/plain": [
       "<IPython.core.display.HTML object>"
      ]
     },
     "metadata": {},
     "output_type": "display_data"
    },
    {
     "data": {
      "text/html": [
       "Find logs at: <code>./wandb/run-20250410_031645-hmgpqr7e/logs</code>"
      ],
      "text/plain": [
       "<IPython.core.display.HTML object>"
      ]
     },
     "metadata": {},
     "output_type": "display_data"
    },
    {
     "name": "stderr",
     "output_type": "stream",
     "text": [
      "\u001b[34m\u001b[1mwandb\u001b[0m: Agent Starting Run: by8rmfx6 with config:\n",
      "\u001b[34m\u001b[1mwandb\u001b[0m: \tdropout: 0.3957734738050327\n",
      "\u001b[34m\u001b[1mwandb\u001b[0m: \tefficientnet_model: b0\n",
      "\u001b[34m\u001b[1mwandb\u001b[0m: \tlearning_rate_scheduler: {'factor': 0.15105690330700564, 'gamma': 0.6146870780047069, 'name': 'step', 'step_size': 2}\n",
      "\u001b[34m\u001b[1mwandb\u001b[0m: \toptimizer: {'learning_rate': 0.001288325392959786, 'momentum': 0.919629549540921, 'name': 'rmsprop', 'weight_decay': 9.04223471227994e-05}\n",
      "\u001b[34m\u001b[1mwandb\u001b[0m: \ttune_type: repurpose\n",
      "Seed set to 42\n",
      "\u001b[34m\u001b[1mwandb\u001b[0m: \u001b[33mWARNING\u001b[0m WANDB_NOTEBOOK_NAME should be a path to a notebook file, couldn't find ./dspro2/efficientnet.ipynb.\n"
     ]
    },
    {
     "data": {
      "text/html": [
       "Tracking run with wandb version 0.19.9"
      ],
      "text/plain": [
       "<IPython.core.display.HTML object>"
      ]
     },
     "metadata": {},
     "output_type": "display_data"
    },
    {
     "data": {
      "text/html": [
       "Run data is saved locally in <code>/home/jovyan/dspro2/wandb/run-20250410_034900-by8rmfx6</code>"
      ],
      "text/plain": [
       "<IPython.core.display.HTML object>"
      ]
     },
     "metadata": {},
     "output_type": "display_data"
    },
    {
     "data": {
      "text/html": [
       "Syncing run <strong><a href='https://wandb.ai/dspro2-silent-speech/silent-speech/runs/by8rmfx6' target=\"_blank\">efficientnet-3</a></strong> to <a href='https://wandb.ai/dspro2-silent-speech/silent-speech' target=\"_blank\">Weights & Biases</a> (<a href='https://wandb.me/developer-guide' target=\"_blank\">docs</a>)<br>Sweep page: <a href='https://wandb.ai/dspro2-silent-speech/silent-speech/sweeps/yualbs7m' target=\"_blank\">https://wandb.ai/dspro2-silent-speech/silent-speech/sweeps/yualbs7m</a>"
      ],
      "text/plain": [
       "<IPython.core.display.HTML object>"
      ]
     },
     "metadata": {},
     "output_type": "display_data"
    },
    {
     "data": {
      "text/html": [
       " View project at <a href='https://wandb.ai/dspro2-silent-speech/silent-speech' target=\"_blank\">https://wandb.ai/dspro2-silent-speech/silent-speech</a>"
      ],
      "text/plain": [
       "<IPython.core.display.HTML object>"
      ]
     },
     "metadata": {},
     "output_type": "display_data"
    },
    {
     "data": {
      "text/html": [
       " View sweep at <a href='https://wandb.ai/dspro2-silent-speech/silent-speech/sweeps/yualbs7m' target=\"_blank\">https://wandb.ai/dspro2-silent-speech/silent-speech/sweeps/yualbs7m</a>"
      ],
      "text/plain": [
       "<IPython.core.display.HTML object>"
      ]
     },
     "metadata": {},
     "output_type": "display_data"
    },
    {
     "data": {
      "text/html": [
       " View run at <a href='https://wandb.ai/dspro2-silent-speech/silent-speech/runs/by8rmfx6' target=\"_blank\">https://wandb.ai/dspro2-silent-speech/silent-speech/runs/by8rmfx6</a>"
      ],
      "text/plain": [
       "<IPython.core.display.HTML object>"
      ]
     },
     "metadata": {},
     "output_type": "display_data"
    },
    {
     "name": "stderr",
     "output_type": "stream",
     "text": [
      "Seed set to 42\n",
      "GPU available: True (cuda), used: True\n",
      "TPU available: False, using: 0 TPU cores\n",
      "HPU available: False, using: 0 HPUs\n",
      "/opt/conda/lib/python3.12/site-packages/lightning/pytorch/loggers/wandb.py:397: There is a wandb run already in progress and newly created instances of `WandbLogger` will reuse this run. If this is not desired, call `wandb.finish()` before instantiating `WandbLogger`.\n",
      "LOCAL_RANK: 0 - CUDA_VISIBLE_DEVICES: [0]\n",
      "\n",
      "  | Name           | Type                     | Params | Mode \n",
      "--------------------------------------------------------------------\n",
      "0 | model          | ASLEfficientNetRepurpose | 4.0 M  | train\n",
      "1 | criterion      | CrossEntropyLoss         | 0      | train\n",
      "2 | train_accuracy | MulticlassAccuracy       | 0      | train\n",
      "3 | valid_accuracy | MulticlassAccuracy       | 0      | train\n",
      "4 | test_accuracy  | MulticlassAccuracy       | 0      | train\n",
      "--------------------------------------------------------------------\n",
      "35.9 K    Trainable params\n",
      "4.0 M     Non-trainable params\n",
      "4.0 M     Total params\n",
      "16.174    Total estimated model params size (MB)\n",
      "342       Modules in train mode\n",
      "0         Modules in eval mode\n"
     ]
    },
    {
     "data": {
      "application/vnd.jupyter.widget-view+json": {
       "model_id": "1b6ee0559a9341f992f354fb70d15002",
       "version_major": 2,
       "version_minor": 0
      },
      "text/plain": [
       "Sanity Checking: |          | 0/? [00:00<?, ?it/s]"
      ]
     },
     "metadata": {},
     "output_type": "display_data"
    },
    {
     "data": {
      "application/vnd.jupyter.widget-view+json": {
       "model_id": "fe577496a3fa4b18ae043aeedfca5238",
       "version_major": 2,
       "version_minor": 0
      },
      "text/plain": [
       "Training: |          | 0/? [00:00<?, ?it/s]"
      ]
     },
     "metadata": {},
     "output_type": "display_data"
    },
    {
     "data": {
      "application/vnd.jupyter.widget-view+json": {
       "model_id": "a6a8080c96e54bf8badaf2853097c633",
       "version_major": 2,
       "version_minor": 0
      },
      "text/plain": [
       "Validation: |          | 0/? [00:00<?, ?it/s]"
      ]
     },
     "metadata": {},
     "output_type": "display_data"
    },
    {
     "name": "stderr",
     "output_type": "stream",
     "text": [
      "Metric valid_accuracy improved. New best score: 0.037\n",
      "Metric train_accuracy improved. New best score: 0.824\n"
     ]
    },
    {
     "data": {
      "application/vnd.jupyter.widget-view+json": {
       "model_id": "b3dec513fe3e41648ab6dab8fa671057",
       "version_major": 2,
       "version_minor": 0
      },
      "text/plain": [
       "Validation: |          | 0/? [00:00<?, ?it/s]"
      ]
     },
     "metadata": {},
     "output_type": "display_data"
    },
    {
     "name": "stderr",
     "output_type": "stream",
     "text": [
      "Metric valid_accuracy improved by 0.001 >= min_delta = 0.0. New best score: 0.038\n"
     ]
    },
    {
     "data": {
      "application/vnd.jupyter.widget-view+json": {
       "model_id": "a1819ae16b374415aec45fac6edd8190",
       "version_major": 2,
       "version_minor": 0
      },
      "text/plain": [
       "Validation: |          | 0/? [00:00<?, ?it/s]"
      ]
     },
     "metadata": {},
     "output_type": "display_data"
    },
    {
     "data": {
      "application/vnd.jupyter.widget-view+json": {
       "model_id": "0bd7c8dd6ae64cc29088a5a9ba08ae2b",
       "version_major": 2,
       "version_minor": 0
      },
      "text/plain": [
       "Validation: |          | 0/? [00:00<?, ?it/s]"
      ]
     },
     "metadata": {},
     "output_type": "display_data"
    },
    {
     "name": "stderr",
     "output_type": "stream",
     "text": [
      "Metric valid_accuracy improved by 0.000 >= min_delta = 0.0. New best score: 0.038\n"
     ]
    },
    {
     "data": {
      "application/vnd.jupyter.widget-view+json": {
       "model_id": "25997222bb7c4e1dabe28b1c4c6a5eef",
       "version_major": 2,
       "version_minor": 0
      },
      "text/plain": [
       "Validation: |          | 0/? [00:00<?, ?it/s]"
      ]
     },
     "metadata": {},
     "output_type": "display_data"
    },
    {
     "data": {
      "application/vnd.jupyter.widget-view+json": {
       "model_id": "5e4476e2a1a64b26b79c57b37566ff66",
       "version_major": 2,
       "version_minor": 0
      },
      "text/plain": [
       "Validation: |          | 0/? [00:00<?, ?it/s]"
      ]
     },
     "metadata": {},
     "output_type": "display_data"
    },
    {
     "name": "stderr",
     "output_type": "stream",
     "text": [
      "Monitored metric train_accuracy did not improve in the last 5 records. Best score: 0.824. Signaling Trainer to stop.\n"
     ]
    },
    {
     "data": {
      "text/html": [],
      "text/plain": [
       "<IPython.core.display.HTML object>"
      ]
     },
     "metadata": {},
     "output_type": "display_data"
    },
    {
     "data": {
      "text/html": [
       "<br>    <style><br>        .wandb-row {<br>            display: flex;<br>            flex-direction: row;<br>            flex-wrap: wrap;<br>            justify-content: flex-start;<br>            width: 100%;<br>        }<br>        .wandb-col {<br>            display: flex;<br>            flex-direction: column;<br>            flex-basis: 100%;<br>            flex: 1;<br>            padding: 10px;<br>        }<br>    </style><br><div class=\"wandb-row\"><div class=\"wandb-col\"><h3>Run history:</h3><br/><table class=\"wandb\"><tr><td>epoch</td><td>▁▁▁▁▁▁▁▁▁▂▂▂▂▂▄▄▄▄▄▄▅▅▅▅▅▅▇▇▇▇▇▇▇███████</td></tr><tr><td>lr-RMSprop</td><td>███████████████▄▄▄▄▄▄▄▄▄▄▄▄▄▄▁▁▁▁▁▁▁▁▁▁▁</td></tr><tr><td>lr-RMSprop-momentum</td><td>▁▁▁▁▁▁▁▁▁▁▁▁▁▁▁▁▁▁▁▁▁▁▁▁▁▁▁▁▁▁▁▁▁▁▁▁▁▁▁▁</td></tr><tr><td>lr-RMSprop-weight_decay</td><td>▁▁▁▁▁▁▁▁▁▁▁▁▁▁▁▁▁▁▁▁▁▁▁▁▁▁▁▁▁▁▁▁▁▁▁▁▁▁▁▁</td></tr><tr><td>train_accuracy_epoch</td><td>█▃▁▃▁▃</td></tr><tr><td>train_accuracy_step</td><td>███▁███▁█▁▁███████▁█████▁██▁████████████</td></tr><tr><td>train_loss_epoch</td><td>▆█▄▄▁▁</td></tr><tr><td>train_loss_step</td><td>▁▁▁▁██▁▁▁▁▁▁▁▁▁▁▁▁▁▅▁▁▅▁▁▁▁▁▁▁▁▂▁▁▄▂▁▁▁▁</td></tr><tr><td>trainer/global_step</td><td>▁▁▁▁▁▁▁▁▃▁▂▂▂▄▂▂▂▂▂▂▆▂▂▂▂▂▃▃▃▆▃▃▃▃█▃▃▃▃▃</td></tr><tr><td>valid_accuracy_epoch</td><td>▃▇▃█▁▂</td></tr><tr><td>valid_accuracy_step</td><td>▁▁▁▁▁▁▁▁▁▁▁▁▁▁▁▁█▁▁▁▁▁▁▁▁▁▁▁▁▁▁▁▁▁▁▁█▁▁▁</td></tr><tr><td>valid_loss_epoch</td><td>█▆▃▇▁▁</td></tr><tr><td>valid_loss_step</td><td>▆█▆█▇▇▆▆▅▅▄▅▁▄▄▄▅▄▄▄▃▃▄▄▄▄▄▃▂▂▃▃▃▃▃▃▃▃▂▃</td></tr></table><br/></div><div class=\"wandb-col\"><h3>Run summary:</h3><br/><table class=\"wandb\"><tr><td>epoch</td><td>5</td></tr><tr><td>lr-RMSprop</td><td>0.00049</td></tr><tr><td>lr-RMSprop-momentum</td><td>0.91963</td></tr><tr><td>lr-RMSprop-weight_decay</td><td>9e-05</td></tr><tr><td>train_accuracy_epoch</td><td>0.80161</td></tr><tr><td>train_accuracy_step</td><td>1</td></tr><tr><td>train_loss_epoch</td><td>10.68452</td></tr><tr><td>train_loss_step</td><td>0.0</td></tr><tr><td>trainer/global_step</td><td>18731</td></tr><tr><td>valid_accuracy_epoch</td><td>0.0368</td></tr><tr><td>valid_accuracy_step</td><td>1</td></tr><tr><td>valid_loss_epoch</td><td>56.31876</td></tr><tr><td>valid_loss_step</td><td>0</td></tr></table><br/></div></div>"
      ],
      "text/plain": [
       "<IPython.core.display.HTML object>"
      ]
     },
     "metadata": {},
     "output_type": "display_data"
    },
    {
     "data": {
      "text/html": [
       " View run <strong style=\"color:#cdcd00\">efficientnet-3</strong> at: <a href='https://wandb.ai/dspro2-silent-speech/silent-speech/runs/by8rmfx6' target=\"_blank\">https://wandb.ai/dspro2-silent-speech/silent-speech/runs/by8rmfx6</a><br> View project at: <a href='https://wandb.ai/dspro2-silent-speech/silent-speech' target=\"_blank\">https://wandb.ai/dspro2-silent-speech/silent-speech</a><br>Synced 5 W&B file(s), 0 media file(s), 6 artifact file(s) and 0 other file(s)"
      ],
      "text/plain": [
       "<IPython.core.display.HTML object>"
      ]
     },
     "metadata": {},
     "output_type": "display_data"
    },
    {
     "data": {
      "text/html": [
       "Find logs at: <code>./wandb/run-20250410_034900-by8rmfx6/logs</code>"
      ],
      "text/plain": [
       "<IPython.core.display.HTML object>"
      ]
     },
     "metadata": {},
     "output_type": "display_data"
    },
    {
     "name": "stderr",
     "output_type": "stream",
     "text": [
      "\u001b[34m\u001b[1mwandb\u001b[0m: Agent Starting Run: jgnxahgo with config:\n",
      "\u001b[34m\u001b[1mwandb\u001b[0m: \tdropout: 0.40418130331998714\n",
      "\u001b[34m\u001b[1mwandb\u001b[0m: \tefficientnet_model: b1\n",
      "\u001b[34m\u001b[1mwandb\u001b[0m: \tlearning_rate_scheduler: {'factor': 0.4205647724754341, 'gamma': 0.822455561906846, 'name': 'exponential', 'step_size': 2}\n",
      "\u001b[34m\u001b[1mwandb\u001b[0m: \toptimizer: {'learning_rate': 4.190582618087689e-05, 'momentum': 0.9453285146767646, 'name': 'adam', 'weight_decay': 0.0006505026665179994}\n",
      "\u001b[34m\u001b[1mwandb\u001b[0m: \ttune_type: repurpose\n",
      "Seed set to 42\n",
      "\u001b[34m\u001b[1mwandb\u001b[0m: \u001b[33mWARNING\u001b[0m WANDB_NOTEBOOK_NAME should be a path to a notebook file, couldn't find ./dspro2/efficientnet.ipynb.\n"
     ]
    },
    {
     "data": {
      "text/html": [
       "Tracking run with wandb version 0.19.9"
      ],
      "text/plain": [
       "<IPython.core.display.HTML object>"
      ]
     },
     "metadata": {},
     "output_type": "display_data"
    },
    {
     "data": {
      "text/html": [
       "Run data is saved locally in <code>/home/jovyan/dspro2/wandb/run-20250410_042129-jgnxahgo</code>"
      ],
      "text/plain": [
       "<IPython.core.display.HTML object>"
      ]
     },
     "metadata": {},
     "output_type": "display_data"
    },
    {
     "data": {
      "text/html": [
       "Syncing run <strong><a href='https://wandb.ai/dspro2-silent-speech/silent-speech/runs/jgnxahgo' target=\"_blank\">efficientnet-4</a></strong> to <a href='https://wandb.ai/dspro2-silent-speech/silent-speech' target=\"_blank\">Weights & Biases</a> (<a href='https://wandb.me/developer-guide' target=\"_blank\">docs</a>)<br>Sweep page: <a href='https://wandb.ai/dspro2-silent-speech/silent-speech/sweeps/yualbs7m' target=\"_blank\">https://wandb.ai/dspro2-silent-speech/silent-speech/sweeps/yualbs7m</a>"
      ],
      "text/plain": [
       "<IPython.core.display.HTML object>"
      ]
     },
     "metadata": {},
     "output_type": "display_data"
    },
    {
     "data": {
      "text/html": [
       " View project at <a href='https://wandb.ai/dspro2-silent-speech/silent-speech' target=\"_blank\">https://wandb.ai/dspro2-silent-speech/silent-speech</a>"
      ],
      "text/plain": [
       "<IPython.core.display.HTML object>"
      ]
     },
     "metadata": {},
     "output_type": "display_data"
    },
    {
     "data": {
      "text/html": [
       " View sweep at <a href='https://wandb.ai/dspro2-silent-speech/silent-speech/sweeps/yualbs7m' target=\"_blank\">https://wandb.ai/dspro2-silent-speech/silent-speech/sweeps/yualbs7m</a>"
      ],
      "text/plain": [
       "<IPython.core.display.HTML object>"
      ]
     },
     "metadata": {},
     "output_type": "display_data"
    },
    {
     "data": {
      "text/html": [
       " View run at <a href='https://wandb.ai/dspro2-silent-speech/silent-speech/runs/jgnxahgo' target=\"_blank\">https://wandb.ai/dspro2-silent-speech/silent-speech/runs/jgnxahgo</a>"
      ],
      "text/plain": [
       "<IPython.core.display.HTML object>"
      ]
     },
     "metadata": {},
     "output_type": "display_data"
    },
    {
     "name": "stderr",
     "output_type": "stream",
     "text": [
      "Seed set to 42\n",
      "GPU available: True (cuda), used: True\n",
      "TPU available: False, using: 0 TPU cores\n",
      "HPU available: False, using: 0 HPUs\n",
      "/opt/conda/lib/python3.12/site-packages/lightning/pytorch/loggers/wandb.py:397: There is a wandb run already in progress and newly created instances of `WandbLogger` will reuse this run. If this is not desired, call `wandb.finish()` before instantiating `WandbLogger`.\n",
      "LOCAL_RANK: 0 - CUDA_VISIBLE_DEVICES: [0]\n",
      "\n",
      "  | Name           | Type                     | Params | Mode \n",
      "--------------------------------------------------------------------\n",
      "0 | model          | ASLEfficientNetRepurpose | 6.5 M  | train\n",
      "1 | criterion      | CrossEntropyLoss         | 0      | train\n",
      "2 | train_accuracy | MulticlassAccuracy       | 0      | train\n",
      "3 | valid_accuracy | MulticlassAccuracy       | 0      | train\n",
      "4 | test_accuracy  | MulticlassAccuracy       | 0      | train\n",
      "--------------------------------------------------------------------\n",
      "35.9 K    Trainable params\n",
      "6.5 M     Non-trainable params\n",
      "6.5 M     Total params\n",
      "26.196    Total estimated model params size (MB)\n",
      "478       Modules in train mode\n",
      "0         Modules in eval mode\n"
     ]
    },
    {
     "data": {
      "application/vnd.jupyter.widget-view+json": {
       "model_id": "49f02acab02443c8850243374e61091e",
       "version_major": 2,
       "version_minor": 0
      },
      "text/plain": [
       "Sanity Checking: |          | 0/? [00:00<?, ?it/s]"
      ]
     },
     "metadata": {},
     "output_type": "display_data"
    },
    {
     "data": {
      "application/vnd.jupyter.widget-view+json": {
       "model_id": "6e9802ae12da43628ff92e7812e544ff",
       "version_major": 2,
       "version_minor": 0
      },
      "text/plain": [
       "Training: |          | 0/? [00:00<?, ?it/s]"
      ]
     },
     "metadata": {},
     "output_type": "display_data"
    },
    {
     "data": {
      "application/vnd.jupyter.widget-view+json": {
       "model_id": "2072fb6a0b784e629395d34afa02af7b",
       "version_major": 2,
       "version_minor": 0
      },
      "text/plain": [
       "Validation: |          | 0/? [00:00<?, ?it/s]"
      ]
     },
     "metadata": {},
     "output_type": "display_data"
    },
    {
     "name": "stderr",
     "output_type": "stream",
     "text": [
      "Metric valid_accuracy improved. New best score: 0.077\n",
      "Metric train_accuracy improved. New best score: 0.025\n"
     ]
    },
    {
     "data": {
      "application/vnd.jupyter.widget-view+json": {
       "model_id": "ed376c9ab92b4c7cb46202b9e01fe499",
       "version_major": 2,
       "version_minor": 0
      },
      "text/plain": [
       "Validation: |          | 0/? [00:00<?, ?it/s]"
      ]
     },
     "metadata": {},
     "output_type": "display_data"
    },
    {
     "name": "stderr",
     "output_type": "stream",
     "text": [
      "Metric valid_accuracy improved by 0.062 >= min_delta = 0.0. New best score: 0.139\n",
      "Metric train_accuracy improved by 0.040 >= min_delta = 0.0. New best score: 0.065\n"
     ]
    },
    {
     "data": {
      "application/vnd.jupyter.widget-view+json": {
       "model_id": "fb16fc1c14a84f8c96525493a5142ed7",
       "version_major": 2,
       "version_minor": 0
      },
      "text/plain": [
       "Validation: |          | 0/? [00:00<?, ?it/s]"
      ]
     },
     "metadata": {},
     "output_type": "display_data"
    },
    {
     "name": "stderr",
     "output_type": "stream",
     "text": [
      "Metric valid_accuracy improved by 0.064 >= min_delta = 0.0. New best score: 0.203\n"
     ]
    },
    {
     "data": {
      "application/vnd.jupyter.widget-view+json": {
       "model_id": "28b82035f1a44d4691e2724a2d7b5a1c",
       "version_major": 2,
       "version_minor": 0
      },
      "text/plain": [
       "Validation: |          | 0/? [00:00<?, ?it/s]"
      ]
     },
     "metadata": {},
     "output_type": "display_data"
    },
    {
     "name": "stderr",
     "output_type": "stream",
     "text": [
      "Metric valid_accuracy improved by 0.055 >= min_delta = 0.0. New best score: 0.258\n"
     ]
    },
    {
     "data": {
      "application/vnd.jupyter.widget-view+json": {
       "model_id": "9fc0e9c917964e8da132a3c8ee1f5686",
       "version_major": 2,
       "version_minor": 0
      },
      "text/plain": [
       "Validation: |          | 0/? [00:00<?, ?it/s]"
      ]
     },
     "metadata": {},
     "output_type": "display_data"
    },
    {
     "name": "stderr",
     "output_type": "stream",
     "text": [
      "Metric valid_accuracy improved by 0.043 >= min_delta = 0.0. New best score: 0.301\n"
     ]
    },
    {
     "data": {
      "application/vnd.jupyter.widget-view+json": {
       "model_id": "044bdd4549b44a21877af727c2b0ff8f",
       "version_major": 2,
       "version_minor": 0
      },
      "text/plain": [
       "Validation: |          | 0/? [00:00<?, ?it/s]"
      ]
     },
     "metadata": {},
     "output_type": "display_data"
    },
    {
     "name": "stderr",
     "output_type": "stream",
     "text": [
      "Metric valid_accuracy improved by 0.022 >= min_delta = 0.0. New best score: 0.324\n",
      "Metric train_accuracy improved by 0.001 >= min_delta = 0.0. New best score: 0.066\n"
     ]
    },
    {
     "data": {
      "application/vnd.jupyter.widget-view+json": {
       "model_id": "09cd36d072c94c12a40cb147fa05433e",
       "version_major": 2,
       "version_minor": 0
      },
      "text/plain": [
       "Validation: |          | 0/? [00:00<?, ?it/s]"
      ]
     },
     "metadata": {},
     "output_type": "display_data"
    },
    {
     "name": "stderr",
     "output_type": "stream",
     "text": [
      "Metric valid_accuracy improved by 0.029 >= min_delta = 0.0. New best score: 0.353\n",
      "Metric train_accuracy improved by 0.005 >= min_delta = 0.0. New best score: 0.071\n"
     ]
    },
    {
     "data": {
      "application/vnd.jupyter.widget-view+json": {
       "model_id": "3b49097e9a0d4d84867914603a03aba8",
       "version_major": 2,
       "version_minor": 0
      },
      "text/plain": [
       "Validation: |          | 0/? [00:00<?, ?it/s]"
      ]
     },
     "metadata": {},
     "output_type": "display_data"
    },
    {
     "name": "stderr",
     "output_type": "stream",
     "text": [
      "Metric train_accuracy improved by 0.004 >= min_delta = 0.0. New best score: 0.074\n"
     ]
    },
    {
     "data": {
      "application/vnd.jupyter.widget-view+json": {
       "model_id": "2b4536adc40042e198150b3d46b778f3",
       "version_major": 2,
       "version_minor": 0
      },
      "text/plain": [
       "Validation: |          | 0/? [00:00<?, ?it/s]"
      ]
     },
     "metadata": {},
     "output_type": "display_data"
    },
    {
     "name": "stderr",
     "output_type": "stream",
     "text": [
      "Metric valid_accuracy improved by 0.021 >= min_delta = 0.0. New best score: 0.373\n",
      "Metric train_accuracy improved by 0.006 >= min_delta = 0.0. New best score: 0.080\n"
     ]
    },
    {
     "data": {
      "application/vnd.jupyter.widget-view+json": {
       "model_id": "19d1966c9e724c948494051850cda571",
       "version_major": 2,
       "version_minor": 0
      },
      "text/plain": [
       "Validation: |          | 0/? [00:00<?, ?it/s]"
      ]
     },
     "metadata": {},
     "output_type": "display_data"
    },
    {
     "name": "stderr",
     "output_type": "stream",
     "text": [
      "Metric valid_accuracy improved by 0.009 >= min_delta = 0.0. New best score: 0.383\n",
      "Metric train_accuracy improved by 0.005 >= min_delta = 0.0. New best score: 0.085\n"
     ]
    },
    {
     "data": {
      "application/vnd.jupyter.widget-view+json": {
       "model_id": "47cdf4aba74a477ab29f344548bacbac",
       "version_major": 2,
       "version_minor": 0
      },
      "text/plain": [
       "Validation: |          | 0/? [00:00<?, ?it/s]"
      ]
     },
     "metadata": {},
     "output_type": "display_data"
    },
    {
     "name": "stderr",
     "output_type": "stream",
     "text": [
      "Metric valid_accuracy improved by 0.009 >= min_delta = 0.0. New best score: 0.391\n",
      "Metric train_accuracy improved by 0.006 >= min_delta = 0.0. New best score: 0.091\n"
     ]
    },
    {
     "data": {
      "application/vnd.jupyter.widget-view+json": {
       "model_id": "a74364576de2437fa6a17c32cf82a613",
       "version_major": 2,
       "version_minor": 0
      },
      "text/plain": [
       "Validation: |          | 0/? [00:00<?, ?it/s]"
      ]
     },
     "metadata": {},
     "output_type": "display_data"
    },
    {
     "name": "stderr",
     "output_type": "stream",
     "text": [
      "Metric valid_accuracy improved by 0.000 >= min_delta = 0.0. New best score: 0.391\n",
      "Metric train_accuracy improved by 0.002 >= min_delta = 0.0. New best score: 0.093\n"
     ]
    },
    {
     "data": {
      "application/vnd.jupyter.widget-view+json": {
       "model_id": "25852154a4be49a6a8956d267fc4a29f",
       "version_major": 2,
       "version_minor": 0
      },
      "text/plain": [
       "Validation: |          | 0/? [00:00<?, ?it/s]"
      ]
     },
     "metadata": {},
     "output_type": "display_data"
    },
    {
     "name": "stderr",
     "output_type": "stream",
     "text": [
      "Metric valid_accuracy improved by 0.001 >= min_delta = 0.0. New best score: 0.393\n",
      "Metric train_accuracy improved by 0.003 >= min_delta = 0.0. New best score: 0.096\n"
     ]
    },
    {
     "data": {
      "application/vnd.jupyter.widget-view+json": {
       "model_id": "33874b3ff3f848dcaff19811957639ae",
       "version_major": 2,
       "version_minor": 0
      },
      "text/plain": [
       "Validation: |          | 0/? [00:00<?, ?it/s]"
      ]
     },
     "metadata": {},
     "output_type": "display_data"
    },
    {
     "name": "stderr",
     "output_type": "stream",
     "text": [
      "Metric valid_accuracy improved by 0.006 >= min_delta = 0.0. New best score: 0.398\n",
      "Metric train_accuracy improved by 0.006 >= min_delta = 0.0. New best score: 0.102\n"
     ]
    },
    {
     "data": {
      "application/vnd.jupyter.widget-view+json": {
       "model_id": "e15dad3236f340f28a54e816993e0b60",
       "version_major": 2,
       "version_minor": 0
      },
      "text/plain": [
       "Validation: |          | 0/? [00:00<?, ?it/s]"
      ]
     },
     "metadata": {},
     "output_type": "display_data"
    },
    {
     "name": "stderr",
     "output_type": "stream",
     "text": [
      "Metric train_accuracy improved by 0.005 >= min_delta = 0.0. New best score: 0.107\n"
     ]
    },
    {
     "data": {
      "application/vnd.jupyter.widget-view+json": {
       "model_id": "5621345888b64a0994072abeef7f5d24",
       "version_major": 2,
       "version_minor": 0
      },
      "text/plain": [
       "Validation: |          | 0/? [00:00<?, ?it/s]"
      ]
     },
     "metadata": {},
     "output_type": "display_data"
    },
    {
     "name": "stderr",
     "output_type": "stream",
     "text": [
      "Metric valid_accuracy improved by 0.003 >= min_delta = 0.0. New best score: 0.401\n",
      "Metric train_accuracy improved by 0.001 >= min_delta = 0.0. New best score: 0.109\n"
     ]
    },
    {
     "data": {
      "application/vnd.jupyter.widget-view+json": {
       "model_id": "aecaade5998d4b9ca6c4de981e68f33c",
       "version_major": 2,
       "version_minor": 0
      },
      "text/plain": [
       "Validation: |          | 0/? [00:00<?, ?it/s]"
      ]
     },
     "metadata": {},
     "output_type": "display_data"
    },
    {
     "name": "stderr",
     "output_type": "stream",
     "text": [
      "Metric valid_accuracy improved by 0.000 >= min_delta = 0.0. New best score: 0.401\n",
      "Metric train_accuracy improved by 0.002 >= min_delta = 0.0. New best score: 0.111\n"
     ]
    },
    {
     "data": {
      "application/vnd.jupyter.widget-view+json": {
       "model_id": "07d4294f20b94df28bdd3e526fea5d57",
       "version_major": 2,
       "version_minor": 0
      },
      "text/plain": [
       "Validation: |          | 0/? [00:00<?, ?it/s]"
      ]
     },
     "metadata": {},
     "output_type": "display_data"
    },
    {
     "name": "stderr",
     "output_type": "stream",
     "text": [
      "Metric valid_accuracy improved by 0.006 >= min_delta = 0.0. New best score: 0.408\n",
      "Metric train_accuracy improved by 0.002 >= min_delta = 0.0. New best score: 0.113\n"
     ]
    },
    {
     "data": {
      "application/vnd.jupyter.widget-view+json": {
       "model_id": "d73929056b154b708ad67eeb3b50f288",
       "version_major": 2,
       "version_minor": 0
      },
      "text/plain": [
       "Validation: |          | 0/? [00:00<?, ?it/s]"
      ]
     },
     "metadata": {},
     "output_type": "display_data"
    },
    {
     "name": "stderr",
     "output_type": "stream",
     "text": [
      "Metric train_accuracy improved by 0.003 >= min_delta = 0.0. New best score: 0.116\n"
     ]
    },
    {
     "data": {
      "application/vnd.jupyter.widget-view+json": {
       "model_id": "d6fcc80db7944df4bb85413aa3191a3c",
       "version_major": 2,
       "version_minor": 0
      },
      "text/plain": [
       "Validation: |          | 0/? [00:00<?, ?it/s]"
      ]
     },
     "metadata": {},
     "output_type": "display_data"
    },
    {
     "name": "stderr",
     "output_type": "stream",
     "text": [
      "Metric train_accuracy improved by 0.001 >= min_delta = 0.0. New best score: 0.116\n"
     ]
    },
    {
     "data": {
      "application/vnd.jupyter.widget-view+json": {
       "model_id": "4ca8f1ff0f5c4d578aea504b89c1d6da",
       "version_major": 2,
       "version_minor": 0
      },
      "text/plain": [
       "Validation: |          | 0/? [00:00<?, ?it/s]"
      ]
     },
     "metadata": {},
     "output_type": "display_data"
    },
    {
     "name": "stderr",
     "output_type": "stream",
     "text": [
      "Metric valid_accuracy improved by 0.006 >= min_delta = 0.0. New best score: 0.414\n"
     ]
    },
    {
     "data": {
      "application/vnd.jupyter.widget-view+json": {
       "model_id": "791bcbb26b284fe3983b3ac1e9ef00c5",
       "version_major": 2,
       "version_minor": 0
      },
      "text/plain": [
       "Validation: |          | 0/? [00:00<?, ?it/s]"
      ]
     },
     "metadata": {},
     "output_type": "display_data"
    },
    {
     "name": "stderr",
     "output_type": "stream",
     "text": [
      "Metric train_accuracy improved by 0.002 >= min_delta = 0.0. New best score: 0.118\n"
     ]
    },
    {
     "data": {
      "application/vnd.jupyter.widget-view+json": {
       "model_id": "1acdc1264f3d451dbaf0fed65909f448",
       "version_major": 2,
       "version_minor": 0
      },
      "text/plain": [
       "Validation: |          | 0/? [00:00<?, ?it/s]"
      ]
     },
     "metadata": {},
     "output_type": "display_data"
    },
    {
     "name": "stderr",
     "output_type": "stream",
     "text": [
      "Metric train_accuracy improved by 0.002 >= min_delta = 0.0. New best score: 0.120\n"
     ]
    },
    {
     "data": {
      "application/vnd.jupyter.widget-view+json": {
       "model_id": "ff0c2eab81194ee39eed87c63c79aca8",
       "version_major": 2,
       "version_minor": 0
      },
      "text/plain": [
       "Validation: |          | 0/? [00:00<?, ?it/s]"
      ]
     },
     "metadata": {},
     "output_type": "display_data"
    },
    {
     "data": {
      "application/vnd.jupyter.widget-view+json": {
       "model_id": "85afb8951b184e1ba08825316ddd2561",
       "version_major": 2,
       "version_minor": 0
      },
      "text/plain": [
       "Validation: |          | 0/? [00:00<?, ?it/s]"
      ]
     },
     "metadata": {},
     "output_type": "display_data"
    },
    {
     "name": "stderr",
     "output_type": "stream",
     "text": [
      "Metric train_accuracy improved by 0.001 >= min_delta = 0.0. New best score: 0.121\n"
     ]
    },
    {
     "data": {
      "application/vnd.jupyter.widget-view+json": {
       "model_id": "c0090811f129424ea73da4106c06b945",
       "version_major": 2,
       "version_minor": 0
      },
      "text/plain": [
       "Validation: |          | 0/? [00:00<?, ?it/s]"
      ]
     },
     "metadata": {},
     "output_type": "display_data"
    },
    {
     "name": "stderr",
     "output_type": "stream",
     "text": [
      "Monitored metric valid_accuracy did not improve in the last 5 records. Best score: 0.414. Signaling Trainer to stop.\n"
     ]
    },
    {
     "data": {
      "text/html": [],
      "text/plain": [
       "<IPython.core.display.HTML object>"
      ]
     },
     "metadata": {},
     "output_type": "display_data"
    },
    {
     "data": {
      "text/html": [
       "<br>    <style><br>        .wandb-row {<br>            display: flex;<br>            flex-direction: row;<br>            flex-wrap: wrap;<br>            justify-content: flex-start;<br>            width: 100%;<br>        }<br>        .wandb-col {<br>            display: flex;<br>            flex-direction: column;<br>            flex-basis: 100%;<br>            flex: 1;<br>            padding: 10px;<br>        }<br>    </style><br><div class=\"wandb-row\"><div class=\"wandb-col\"><h3>Run history:</h3><br/><table class=\"wandb\"><tr><td>epoch</td><td>▁▁▁▁▁▁▂▂▂▂▂▃▃▃▃▄▄▄▄▄▄▄▅▅▅▅▅▅▆▆▆▆▇▇▇▇▇▇██</td></tr><tr><td>lr-Adam</td><td>█▇▇▇▇▆▆▆▅▄▃▃▃▃▂▂▂▂▁▁▁▁▁▁▁▁▁▁▁▁▁▁▁▁▁▁▁▁▁▁</td></tr><tr><td>lr-Adam-momentum</td><td>▁▁▁▁▁▁▁▁▁▁▁▁▁▁▁▁▁▁▁▁▁▁▁▁▁▁▁▁▁▁▁▁▁▁▁▁▁▁▁▁</td></tr><tr><td>lr-Adam-weight_decay</td><td>▁▁▁▁▁▁▁▁▁▁▁▁▁▁▁▁▁▁▁▁▁▁▁▁▁▁▁▁▁▁▁▁▁▁▁▁▁▁▁▁</td></tr><tr><td>train_accuracy_epoch</td><td>▁▄▃▃▃▄▄▅▅▅▆▆▆▇▇▇▇▇████████</td></tr><tr><td>train_accuracy_step</td><td>▂▁▁▃▄▁▂▆▁▂▂▁▁▃▂▁▆▂▂▁▁▄▂▃▁▅▃▄▃▁▃█▆▄▂▆▃▃▃▃</td></tr><tr><td>train_loss_epoch</td><td>█▂▂▂▂▂▂▂▂▂▂▂▁▁▁▁▁▁▁▁▁▁▁▁▁▁</td></tr><tr><td>train_loss_step</td><td>▁▃█▃▃▃▂▂▃▃▃▂▂▂▁▂▂▂▂▂▁▃▂▂▂▂▂▂▂▂▂▃▃▂▂▁▃▂▂▂</td></tr><tr><td>trainer/global_step</td><td>▁▁▁▁▁▁▁▁▂▂▂▂▂▂▂▂▂▂▂▂▂▂▂▂▂▂▅▃▃▃▃▃▃▃▃█▃▃▄▄</td></tr><tr><td>valid_accuracy_epoch</td><td>▁▂▄▅▆▆▇▇▇▇████████████████</td></tr><tr><td>valid_accuracy_step</td><td>▁▃▃▆▃▇▄▁▁▄█▆▅▅▄▁▃▄▂▄▃▅▆▁▂▃▃█▁▇█▁▂▂▆▂▂▅▅▁</td></tr><tr><td>valid_loss_epoch</td><td>█▆▅▅▄▃▃▃▂▂▂▂▂▁▁▁▁▁▁▁▁▁▁▁▁▁</td></tr><tr><td>valid_loss_step</td><td>▅▇█▄▄▆▃▅▅▅▃▄▃▅▁▄▄▅▆▃▅▆▁▄▄▂▂▂▅▂▁▄▂▂▁▃▆▆▁▃</td></tr></table><br/></div><div class=\"wandb-col\"><h3>Run summary:</h3><br/><table class=\"wandb\"><tr><td>epoch</td><td>25</td></tr><tr><td>lr-Adam</td><td>0.0</td></tr><tr><td>lr-Adam-momentum</td><td>0.9</td></tr><tr><td>lr-Adam-weight_decay</td><td>0.00065</td></tr><tr><td>train_accuracy_epoch</td><td>0.12063</td></tr><tr><td>train_accuracy_step</td><td>0.0625</td></tr><tr><td>train_loss_epoch</td><td>3.24564</td></tr><tr><td>train_loss_step</td><td>3.30182</td></tr><tr><td>trainer/global_step</td><td>81171</td></tr><tr><td>valid_accuracy_epoch</td><td>0.40165</td></tr><tr><td>valid_accuracy_step</td><td>0.07143</td></tr><tr><td>valid_loss_epoch</td><td>3.08302</td></tr><tr><td>valid_loss_step</td><td>3.25081</td></tr></table><br/></div></div>"
      ],
      "text/plain": [
       "<IPython.core.display.HTML object>"
      ]
     },
     "metadata": {},
     "output_type": "display_data"
    },
    {
     "data": {
      "text/html": [
       " View run <strong style=\"color:#cdcd00\">efficientnet-4</strong> at: <a href='https://wandb.ai/dspro2-silent-speech/silent-speech/runs/jgnxahgo' target=\"_blank\">https://wandb.ai/dspro2-silent-speech/silent-speech/runs/jgnxahgo</a><br> View project at: <a href='https://wandb.ai/dspro2-silent-speech/silent-speech' target=\"_blank\">https://wandb.ai/dspro2-silent-speech/silent-speech</a><br>Synced 5 W&B file(s), 0 media file(s), 6 artifact file(s) and 0 other file(s)"
      ],
      "text/plain": [
       "<IPython.core.display.HTML object>"
      ]
     },
     "metadata": {},
     "output_type": "display_data"
    },
    {
     "data": {
      "text/html": [
       "Find logs at: <code>./wandb/run-20250410_042129-jgnxahgo/logs</code>"
      ],
      "text/plain": [
       "<IPython.core.display.HTML object>"
      ]
     },
     "metadata": {},
     "output_type": "display_data"
    },
    {
     "name": "stderr",
     "output_type": "stream",
     "text": [
      "\u001b[34m\u001b[1mwandb\u001b[0m: Agent Starting Run: 24ke0805 with config:\n",
      "\u001b[34m\u001b[1mwandb\u001b[0m: \tdropout: 0.23816209954497733\n",
      "\u001b[34m\u001b[1mwandb\u001b[0m: \tefficientnet_model: b0\n",
      "\u001b[34m\u001b[1mwandb\u001b[0m: \tlearning_rate_scheduler: {'factor': 0.24043020306948895, 'gamma': 0.4291725038510038, 'name': 'exponential', 'step_size': 8}\n",
      "\u001b[34m\u001b[1mwandb\u001b[0m: \toptimizer: {'learning_rate': 0.00020590397173720729, 'momentum': 0.9753472422131564, 'name': 'rmsprop', 'weight_decay': 0.0005953443109458515}\n",
      "\u001b[34m\u001b[1mwandb\u001b[0m: \ttune_type: repurpose\n",
      "Seed set to 42\n",
      "\u001b[34m\u001b[1mwandb\u001b[0m: \u001b[33mWARNING\u001b[0m WANDB_NOTEBOOK_NAME should be a path to a notebook file, couldn't find ./dspro2/efficientnet.ipynb.\n"
     ]
    },
    {
     "data": {
      "text/html": [
       "Tracking run with wandb version 0.19.9"
      ],
      "text/plain": [
       "<IPython.core.display.HTML object>"
      ]
     },
     "metadata": {},
     "output_type": "display_data"
    },
    {
     "data": {
      "text/html": [
       "Run data is saved locally in <code>/home/jovyan/dspro2/wandb/run-20250410_072811-24ke0805</code>"
      ],
      "text/plain": [
       "<IPython.core.display.HTML object>"
      ]
     },
     "metadata": {},
     "output_type": "display_data"
    },
    {
     "data": {
      "text/html": [
       "Syncing run <strong><a href='https://wandb.ai/dspro2-silent-speech/silent-speech/runs/24ke0805' target=\"_blank\">efficientnet-5</a></strong> to <a href='https://wandb.ai/dspro2-silent-speech/silent-speech' target=\"_blank\">Weights & Biases</a> (<a href='https://wandb.me/developer-guide' target=\"_blank\">docs</a>)<br>Sweep page: <a href='https://wandb.ai/dspro2-silent-speech/silent-speech/sweeps/yualbs7m' target=\"_blank\">https://wandb.ai/dspro2-silent-speech/silent-speech/sweeps/yualbs7m</a>"
      ],
      "text/plain": [
       "<IPython.core.display.HTML object>"
      ]
     },
     "metadata": {},
     "output_type": "display_data"
    },
    {
     "data": {
      "text/html": [
       " View project at <a href='https://wandb.ai/dspro2-silent-speech/silent-speech' target=\"_blank\">https://wandb.ai/dspro2-silent-speech/silent-speech</a>"
      ],
      "text/plain": [
       "<IPython.core.display.HTML object>"
      ]
     },
     "metadata": {},
     "output_type": "display_data"
    },
    {
     "data": {
      "text/html": [
       " View sweep at <a href='https://wandb.ai/dspro2-silent-speech/silent-speech/sweeps/yualbs7m' target=\"_blank\">https://wandb.ai/dspro2-silent-speech/silent-speech/sweeps/yualbs7m</a>"
      ],
      "text/plain": [
       "<IPython.core.display.HTML object>"
      ]
     },
     "metadata": {},
     "output_type": "display_data"
    },
    {
     "data": {
      "text/html": [
       " View run at <a href='https://wandb.ai/dspro2-silent-speech/silent-speech/runs/24ke0805' target=\"_blank\">https://wandb.ai/dspro2-silent-speech/silent-speech/runs/24ke0805</a>"
      ],
      "text/plain": [
       "<IPython.core.display.HTML object>"
      ]
     },
     "metadata": {},
     "output_type": "display_data"
    },
    {
     "name": "stderr",
     "output_type": "stream",
     "text": [
      "Seed set to 42\n",
      "GPU available: True (cuda), used: True\n",
      "TPU available: False, using: 0 TPU cores\n",
      "HPU available: False, using: 0 HPUs\n",
      "/opt/conda/lib/python3.12/site-packages/lightning/pytorch/loggers/wandb.py:397: There is a wandb run already in progress and newly created instances of `WandbLogger` will reuse this run. If this is not desired, call `wandb.finish()` before instantiating `WandbLogger`.\n",
      "LOCAL_RANK: 0 - CUDA_VISIBLE_DEVICES: [0]\n",
      "\n",
      "  | Name           | Type                     | Params | Mode \n",
      "--------------------------------------------------------------------\n",
      "0 | model          | ASLEfficientNetRepurpose | 4.0 M  | train\n",
      "1 | criterion      | CrossEntropyLoss         | 0      | train\n",
      "2 | train_accuracy | MulticlassAccuracy       | 0      | train\n",
      "3 | valid_accuracy | MulticlassAccuracy       | 0      | train\n",
      "4 | test_accuracy  | MulticlassAccuracy       | 0      | train\n",
      "--------------------------------------------------------------------\n",
      "35.9 K    Trainable params\n",
      "4.0 M     Non-trainable params\n",
      "4.0 M     Total params\n",
      "16.174    Total estimated model params size (MB)\n",
      "342       Modules in train mode\n",
      "0         Modules in eval mode\n"
     ]
    },
    {
     "data": {
      "application/vnd.jupyter.widget-view+json": {
       "model_id": "d902d6fe49a8458699443f63c3e59798",
       "version_major": 2,
       "version_minor": 0
      },
      "text/plain": [
       "Sanity Checking: |          | 0/? [00:00<?, ?it/s]"
      ]
     },
     "metadata": {},
     "output_type": "display_data"
    },
    {
     "data": {
      "application/vnd.jupyter.widget-view+json": {
       "model_id": "fa26930a65854fb09ee6b4fe96d61ed1",
       "version_major": 2,
       "version_minor": 0
      },
      "text/plain": [
       "Training: |          | 0/? [00:00<?, ?it/s]"
      ]
     },
     "metadata": {},
     "output_type": "display_data"
    },
    {
     "data": {
      "application/vnd.jupyter.widget-view+json": {
       "model_id": "3d205a09fd97460ea56bfc0fc9b55491",
       "version_major": 2,
       "version_minor": 0
      },
      "text/plain": [
       "Validation: |          | 0/? [00:00<?, ?it/s]"
      ]
     },
     "metadata": {},
     "output_type": "display_data"
    },
    {
     "name": "stderr",
     "output_type": "stream",
     "text": [
      "Metric valid_accuracy improved. New best score: 0.044\n",
      "Metric train_accuracy improved. New best score: 0.402\n"
     ]
    },
    {
     "data": {
      "application/vnd.jupyter.widget-view+json": {
       "model_id": "19e721a7cd844e9f80320cf946545e2c",
       "version_major": 2,
       "version_minor": 0
      },
      "text/plain": [
       "Validation: |          | 0/? [00:00<?, ?it/s]"
      ]
     },
     "metadata": {},
     "output_type": "display_data"
    },
    {
     "data": {
      "application/vnd.jupyter.widget-view+json": {
       "model_id": "883abc5b8c3748a9819d7005e645bef6",
       "version_major": 2,
       "version_minor": 0
      },
      "text/plain": [
       "Validation: |          | 0/? [00:00<?, ?it/s]"
      ]
     },
     "metadata": {},
     "output_type": "display_data"
    },
    {
     "data": {
      "application/vnd.jupyter.widget-view+json": {
       "model_id": "1452ffc91cb2483f928c0157ecffe8ed",
       "version_major": 2,
       "version_minor": 0
      },
      "text/plain": [
       "Validation: |          | 0/? [00:00<?, ?it/s]"
      ]
     },
     "metadata": {},
     "output_type": "display_data"
    },
    {
     "data": {
      "application/vnd.jupyter.widget-view+json": {
       "model_id": "6fd489fa44354a67b354cde7e232f3f7",
       "version_major": 2,
       "version_minor": 0
      },
      "text/plain": [
       "Validation: |          | 0/? [00:00<?, ?it/s]"
      ]
     },
     "metadata": {},
     "output_type": "display_data"
    },
    {
     "data": {
      "application/vnd.jupyter.widget-view+json": {
       "model_id": "713e6c52e54f4a45876f4bd0cc8f14ea",
       "version_major": 2,
       "version_minor": 0
      },
      "text/plain": [
       "Validation: |          | 0/? [00:00<?, ?it/s]"
      ]
     },
     "metadata": {},
     "output_type": "display_data"
    },
    {
     "name": "stderr",
     "output_type": "stream",
     "text": [
      "Metric valid_accuracy improved by 0.001 >= min_delta = 0.0. New best score: 0.045\n",
      "Monitored metric train_accuracy did not improve in the last 5 records. Best score: 0.402. Signaling Trainer to stop.\n"
     ]
    },
    {
     "data": {
      "text/html": [],
      "text/plain": [
       "<IPython.core.display.HTML object>"
      ]
     },
     "metadata": {},
     "output_type": "display_data"
    },
    {
     "data": {
      "text/html": [
       "<br>    <style><br>        .wandb-row {<br>            display: flex;<br>            flex-direction: row;<br>            flex-wrap: wrap;<br>            justify-content: flex-start;<br>            width: 100%;<br>        }<br>        .wandb-col {<br>            display: flex;<br>            flex-direction: column;<br>            flex-basis: 100%;<br>            flex: 1;<br>            padding: 10px;<br>        }<br>    </style><br><div class=\"wandb-row\"><div class=\"wandb-col\"><h3>Run history:</h3><br/><table class=\"wandb\"><tr><td>epoch</td><td>▁▁▁▁▁▁▁▂▂▂▂▂▂▂▂▄▄▄▄▅▅▅▅▅▅▇▇▇▇▇▇▇▇▇██████</td></tr><tr><td>lr-RMSprop</td><td>██████████▄▄▄▄▄▄▄▄▂▂▂▂▁▁▁▁▁▁▁▁▁▁▁▁▁▁▁▁▁▁</td></tr><tr><td>lr-RMSprop-momentum</td><td>▁▁▁▁▁▁▁▁▁▁▁▁▁▁▁▁▁▁▁▁▁▁▁▁▁▁▁▁▁▁▁▁▁▁▁▁▁▁▁▁</td></tr><tr><td>lr-RMSprop-weight_decay</td><td>▁▁▁▁▁▁▁▁▁▁▁▁▁▁▁▁▁▁▁▁▁▁▁▁▁▁▁▁▁▁▁▁▁▁▁▁▁▁▁▁</td></tr><tr><td>train_accuracy_epoch</td><td>█▆▆▅▂▁</td></tr><tr><td>train_accuracy_step</td><td>██▁█▁▁▅█▁█▁▁▁▁▁▁█▁█▁▁▁███▁▁▁▁█▁▁▁▁▁▁▁▁▁▁</td></tr><tr><td>train_loss_epoch</td><td>█▅▃▁▁▁</td></tr><tr><td>train_loss_step</td><td>█▁▁█▄▅▁▆▇▄▄▂▂▂▂▃▁▂▂▁▂▁▁▁▂▁▁▁▁▁▁▁▁▁▁▁▁▁▁▁</td></tr><tr><td>trainer/global_step</td><td>▁▂▁▁▁▁▁▁▂▂▂▂▂▂▂▂▂▂▂▂▂▂▂▂▆▂▂▃▃▃▃▃▃▃▃▇█▃▃▃</td></tr><tr><td>valid_accuracy_epoch</td><td>▇▁▁▁▇█</td></tr><tr><td>valid_accuracy_step</td><td>▁▁▁▂▁▁▁█▁▁▁▁▁▁▁▁▁▁▁▁▁▁▁▁▁▁▁▁▁▁▁▁▁▁▁▁▁▁▁▁</td></tr><tr><td>valid_loss_epoch</td><td>█▃▂▂▁▁</td></tr><tr><td>valid_loss_step</td><td>▆█▅▆▇▄▄▃▃▃▃▃▃▂▂▂▂▁▁▁▁▁▁▁▁▁▁▁▁▁▁▁▁▁▁▁▁▁▁▁</td></tr></table><br/></div><div class=\"wandb-col\"><h3>Run summary:</h3><br/><table class=\"wandb\"><tr><td>epoch</td><td>5</td></tr><tr><td>lr-RMSprop</td><td>0.0</td></tr><tr><td>lr-RMSprop-momentum</td><td>0.97535</td></tr><tr><td>lr-RMSprop-weight_decay</td><td>0.0006</td></tr><tr><td>train_accuracy_epoch</td><td>6e-05</td></tr><tr><td>train_accuracy_step</td><td>0</td></tr><tr><td>train_loss_epoch</td><td>5.44769</td></tr><tr><td>train_loss_step</td><td>4.00414</td></tr><tr><td>trainer/global_step</td><td>18731</td></tr><tr><td>valid_accuracy_epoch</td><td>0.04479</td></tr><tr><td>valid_accuracy_step</td><td>0</td></tr><tr><td>valid_loss_epoch</td><td>4.43568</td></tr><tr><td>valid_loss_step</td><td>2.5947</td></tr></table><br/></div></div>"
      ],
      "text/plain": [
       "<IPython.core.display.HTML object>"
      ]
     },
     "metadata": {},
     "output_type": "display_data"
    },
    {
     "data": {
      "text/html": [
       " View run <strong style=\"color:#cdcd00\">efficientnet-5</strong> at: <a href='https://wandb.ai/dspro2-silent-speech/silent-speech/runs/24ke0805' target=\"_blank\">https://wandb.ai/dspro2-silent-speech/silent-speech/runs/24ke0805</a><br> View project at: <a href='https://wandb.ai/dspro2-silent-speech/silent-speech' target=\"_blank\">https://wandb.ai/dspro2-silent-speech/silent-speech</a><br>Synced 5 W&B file(s), 0 media file(s), 6 artifact file(s) and 0 other file(s)"
      ],
      "text/plain": [
       "<IPython.core.display.HTML object>"
      ]
     },
     "metadata": {},
     "output_type": "display_data"
    },
    {
     "data": {
      "text/html": [
       "Find logs at: <code>./wandb/run-20250410_072811-24ke0805/logs</code>"
      ],
      "text/plain": [
       "<IPython.core.display.HTML object>"
      ]
     },
     "metadata": {},
     "output_type": "display_data"
    },
    {
     "name": "stderr",
     "output_type": "stream",
     "text": [
      "\u001b[34m\u001b[1mwandb\u001b[0m: Agent Starting Run: 34qctx9g with config:\n",
      "\u001b[34m\u001b[1mwandb\u001b[0m: \tdropout: 0.39192856465128056\n",
      "\u001b[34m\u001b[1mwandb\u001b[0m: \tefficientnet_model: b1\n",
      "\u001b[34m\u001b[1mwandb\u001b[0m: \tlearning_rate_scheduler: {'factor': 0.39803760604193605, 'gamma': 0.5245179379083522, 'name': 'None', 'step_size': 10}\n",
      "\u001b[34m\u001b[1mwandb\u001b[0m: \toptimizer: {'learning_rate': 0.00025727726907342184, 'momentum': 0.9098549546937296, 'name': 'rmsprop', 'weight_decay': 0.0009300368193308384}\n",
      "\u001b[34m\u001b[1mwandb\u001b[0m: \ttune_type: repurpose\n",
      "Seed set to 42\n",
      "\u001b[34m\u001b[1mwandb\u001b[0m: \u001b[33mWARNING\u001b[0m WANDB_NOTEBOOK_NAME should be a path to a notebook file, couldn't find ./dspro2/efficientnet.ipynb.\n"
     ]
    },
    {
     "data": {
      "text/html": [
       "Tracking run with wandb version 0.19.9"
      ],
      "text/plain": [
       "<IPython.core.display.HTML object>"
      ]
     },
     "metadata": {},
     "output_type": "display_data"
    },
    {
     "data": {
      "text/html": [
       "Run data is saved locally in <code>/home/jovyan/dspro2/wandb/run-20250410_080031-34qctx9g</code>"
      ],
      "text/plain": [
       "<IPython.core.display.HTML object>"
      ]
     },
     "metadata": {},
     "output_type": "display_data"
    },
    {
     "data": {
      "text/html": [
       "Syncing run <strong><a href='https://wandb.ai/dspro2-silent-speech/silent-speech/runs/34qctx9g' target=\"_blank\">efficientnet-6</a></strong> to <a href='https://wandb.ai/dspro2-silent-speech/silent-speech' target=\"_blank\">Weights & Biases</a> (<a href='https://wandb.me/developer-guide' target=\"_blank\">docs</a>)<br>Sweep page: <a href='https://wandb.ai/dspro2-silent-speech/silent-speech/sweeps/yualbs7m' target=\"_blank\">https://wandb.ai/dspro2-silent-speech/silent-speech/sweeps/yualbs7m</a>"
      ],
      "text/plain": [
       "<IPython.core.display.HTML object>"
      ]
     },
     "metadata": {},
     "output_type": "display_data"
    },
    {
     "data": {
      "text/html": [
       " View project at <a href='https://wandb.ai/dspro2-silent-speech/silent-speech' target=\"_blank\">https://wandb.ai/dspro2-silent-speech/silent-speech</a>"
      ],
      "text/plain": [
       "<IPython.core.display.HTML object>"
      ]
     },
     "metadata": {},
     "output_type": "display_data"
    },
    {
     "data": {
      "text/html": [
       " View sweep at <a href='https://wandb.ai/dspro2-silent-speech/silent-speech/sweeps/yualbs7m' target=\"_blank\">https://wandb.ai/dspro2-silent-speech/silent-speech/sweeps/yualbs7m</a>"
      ],
      "text/plain": [
       "<IPython.core.display.HTML object>"
      ]
     },
     "metadata": {},
     "output_type": "display_data"
    },
    {
     "data": {
      "text/html": [
       " View run at <a href='https://wandb.ai/dspro2-silent-speech/silent-speech/runs/34qctx9g' target=\"_blank\">https://wandb.ai/dspro2-silent-speech/silent-speech/runs/34qctx9g</a>"
      ],
      "text/plain": [
       "<IPython.core.display.HTML object>"
      ]
     },
     "metadata": {},
     "output_type": "display_data"
    },
    {
     "name": "stderr",
     "output_type": "stream",
     "text": [
      "Seed set to 42\n",
      "GPU available: True (cuda), used: True\n",
      "TPU available: False, using: 0 TPU cores\n",
      "HPU available: False, using: 0 HPUs\n",
      "/opt/conda/lib/python3.12/site-packages/lightning/pytorch/loggers/wandb.py:397: There is a wandb run already in progress and newly created instances of `WandbLogger` will reuse this run. If this is not desired, call `wandb.finish()` before instantiating `WandbLogger`.\n",
      "LOCAL_RANK: 0 - CUDA_VISIBLE_DEVICES: [0]\n",
      "\n",
      "  | Name           | Type                     | Params | Mode \n",
      "--------------------------------------------------------------------\n",
      "0 | model          | ASLEfficientNetRepurpose | 6.5 M  | train\n",
      "1 | criterion      | CrossEntropyLoss         | 0      | train\n",
      "2 | train_accuracy | MulticlassAccuracy       | 0      | train\n",
      "3 | valid_accuracy | MulticlassAccuracy       | 0      | train\n",
      "4 | test_accuracy  | MulticlassAccuracy       | 0      | train\n",
      "--------------------------------------------------------------------\n",
      "35.9 K    Trainable params\n",
      "6.5 M     Non-trainable params\n",
      "6.5 M     Total params\n",
      "26.196    Total estimated model params size (MB)\n",
      "478       Modules in train mode\n",
      "0         Modules in eval mode\n"
     ]
    },
    {
     "data": {
      "application/vnd.jupyter.widget-view+json": {
       "model_id": "743dc5a3bf524008b2f15e5d9ec265b6",
       "version_major": 2,
       "version_minor": 0
      },
      "text/plain": [
       "Sanity Checking: |          | 0/? [00:00<?, ?it/s]"
      ]
     },
     "metadata": {},
     "output_type": "display_data"
    },
    {
     "data": {
      "application/vnd.jupyter.widget-view+json": {
       "model_id": "87aecab8371a4bbe9d8e935c3eaf37de",
       "version_major": 2,
       "version_minor": 0
      },
      "text/plain": [
       "Training: |          | 0/? [00:00<?, ?it/s]"
      ]
     },
     "metadata": {},
     "output_type": "display_data"
    },
    {
     "data": {
      "application/vnd.jupyter.widget-view+json": {
       "model_id": "e79026ee3b124248bdc06cdd42dda941",
       "version_major": 2,
       "version_minor": 0
      },
      "text/plain": [
       "Validation: |          | 0/? [00:00<?, ?it/s]"
      ]
     },
     "metadata": {},
     "output_type": "display_data"
    },
    {
     "name": "stderr",
     "output_type": "stream",
     "text": [
      "Metric valid_accuracy improved. New best score: 0.049\n",
      "Metric train_accuracy improved. New best score: 0.714\n"
     ]
    },
    {
     "data": {
      "application/vnd.jupyter.widget-view+json": {
       "model_id": "2982a99c8cb742fc93d6ce84e0ee7420",
       "version_major": 2,
       "version_minor": 0
      },
      "text/plain": [
       "Validation: |          | 0/? [00:00<?, ?it/s]"
      ]
     },
     "metadata": {},
     "output_type": "display_data"
    },
    {
     "name": "stderr",
     "output_type": "stream",
     "text": [
      "Metric valid_accuracy improved by 0.037 >= min_delta = 0.0. New best score: 0.086\n"
     ]
    },
    {
     "data": {
      "application/vnd.jupyter.widget-view+json": {
       "model_id": "027037ed19ed44bfa8a0a9ccd303659e",
       "version_major": 2,
       "version_minor": 0
      },
      "text/plain": [
       "Validation: |          | 0/? [00:00<?, ?it/s]"
      ]
     },
     "metadata": {},
     "output_type": "display_data"
    },
    {
     "data": {
      "application/vnd.jupyter.widget-view+json": {
       "model_id": "13cc1681b8514ae2a40fb4537de28dba",
       "version_major": 2,
       "version_minor": 0
      },
      "text/plain": [
       "Validation: |          | 0/? [00:00<?, ?it/s]"
      ]
     },
     "metadata": {},
     "output_type": "display_data"
    }
   ],
   "source": [
    "sweep(sweep_config, 10, train_efficient_net)"
   ]
  },
  {
   "cell_type": "markdown",
   "metadata": {},
   "source": [
    "## Evaluation"
   ]
  },
  {
   "cell_type": "code",
   "execution_count": null,
   "metadata": {},
   "outputs": [],
   "source": []
  },
  {
   "cell_type": "code",
   "execution_count": null,
   "metadata": {},
   "outputs": [],
   "source": []
  },
  {
   "cell_type": "code",
   "execution_count": null,
   "metadata": {},
   "outputs": [],
   "source": []
  },
  {
   "cell_type": "code",
   "execution_count": null,
   "metadata": {},
   "outputs": [],
   "source": []
  },
  {
   "cell_type": "code",
   "execution_count": null,
   "metadata": {},
   "outputs": [],
   "source": []
  },
  {
   "cell_type": "code",
   "execution_count": null,
   "metadata": {},
   "outputs": [],
   "source": []
  },
  {
   "cell_type": "code",
   "execution_count": null,
   "metadata": {},
   "outputs": [],
   "source": []
  },
  {
   "cell_type": "code",
   "execution_count": null,
   "metadata": {},
   "outputs": [],
   "source": []
  },
  {
   "cell_type": "code",
   "execution_count": null,
   "metadata": {},
   "outputs": [],
   "source": []
  }
 ],
 "metadata": {
  "kernelspec": {
   "display_name": "Python 3 (ipykernel)",
   "language": "python",
   "name": "python3"
  },
  "language_info": {
   "codemirror_mode": {
    "name": "ipython",
    "version": 3
   },
   "file_extension": ".py",
   "mimetype": "text/x-python",
   "name": "python",
   "nbconvert_exporter": "python",
   "pygments_lexer": "ipython3",
   "version": "3.12.9"
  }
 },
 "nbformat": 4,
 "nbformat_minor": 4
}
